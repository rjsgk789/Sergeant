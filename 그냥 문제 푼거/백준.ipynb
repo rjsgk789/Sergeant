{
 "cells": [
  {
   "cell_type": "code",
   "execution_count": 6,
   "id": "virgin-faculty",
   "metadata": {},
   "outputs": [
    {
     "name": "stdout",
     "output_type": "stream",
     "text": [
      "5\n",
      "3 1 4 3 2\n",
      "32\n"
     ]
    }
   ],
   "source": [
    "## 11399번 ATM\n",
    "'''\n",
    "사람 1, ... N\n",
    "시간 P1, ... Pn\n",
    "'''\n",
    "\n",
    "n = int(input())\n",
    "\n",
    "time = list(map(int, input().split()))\n",
    "time.sort()\n",
    "\n",
    "answer = 0\n",
    "delay = 0\n",
    "for i in time:\n",
    "    delay += i\n",
    "    answer += delay\n",
    "\n",
    "print(answer)"
   ]
  },
  {
   "cell_type": "code",
   "execution_count": 10,
   "id": "drawn-contractor",
   "metadata": {},
   "outputs": [
    {
     "name": "stdout",
     "output_type": "stream",
     "text": [
      "10 4200\n",
      "1\n",
      "5\n",
      "10\n",
      "50\n",
      "100\n",
      "500\n",
      "1000\n",
      "5000\n",
      "6\n"
     ]
    }
   ],
   "source": [
    "## 11047번 동전0\n",
    "\n",
    "n, k = map(int, input().split())\n",
    "\n",
    "coins = []\n",
    "for i in range(n):\n",
    "    coins.append(int(input()))\n",
    "\n",
    "coins.sort(reverse=True)\n",
    "\n",
    "answer = 0\n",
    "for coin in coins:\n",
    "    answer += k//coin\n",
    "    k = k%coin\n",
    "\n",
    "print(answer)"
   ]
  },
  {
   "cell_type": "code",
   "execution_count": null,
   "id": "normal-ethics",
   "metadata": {},
   "outputs": [],
   "source": [
    "## 15684\n",
    "'''\n",
    "\n",
    "'''"
   ]
  }
 ],
 "metadata": {
  "kernelspec": {
   "display_name": "Python 3",
   "language": "python",
   "name": "python3"
  },
  "language_info": {
   "codemirror_mode": {
    "name": "ipython",
    "version": 3
   },
   "file_extension": ".py",
   "mimetype": "text/x-python",
   "name": "python",
   "nbconvert_exporter": "python",
   "pygments_lexer": "ipython3",
   "version": "3.8.8"
  }
 },
 "nbformat": 4,
 "nbformat_minor": 5
}
