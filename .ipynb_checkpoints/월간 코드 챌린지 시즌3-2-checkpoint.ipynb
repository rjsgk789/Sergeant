{
 "cells": [
  {
   "cell_type": "code",
   "execution_count": null,
   "id": "juvenile-bread",
   "metadata": {},
   "outputs": [],
   "source": [
    "이차원 배열을 만들지 않고\n",
    "\n",
    "인덱스만으로 무슨 수인지\n",
    "\n",
    "r행 c열 ->\n",
    "\n",
    "r <= c -> [c: n+1]\n",
    "r > c -> [r-c만큼 r + r: n+1]\n",
    "1 2 3 4\n",
    "2 2 3 4\n",
    "3 3 3 4\n",
    "4 4 4 4"
   ]
  },
  {
   "cell_type": "code",
   "execution_count": 7,
   "id": "starting-standing",
   "metadata": {},
   "outputs": [
    {
     "data": {
      "text/plain": [
       "[2, 3, 4]"
      ]
     },
     "execution_count": 7,
     "metadata": {},
     "output_type": "execute_result"
    }
   ],
   "source": [
    "r = 2\n",
    "c = 2\n",
    "n = 4\n",
    "[max(i,r) for i in range(c, n+1)]"
   ]
  },
  {
   "cell_type": "code",
   "execution_count": 6,
   "id": "naked-diagram",
   "metadata": {},
   "outputs": [
    {
     "data": {
      "text/plain": [
       "[2, 2, 3, 4]"
      ]
     },
     "execution_count": 6,
     "metadata": {},
     "output_type": "execute_result"
    }
   ],
   "source": [
    "r = 2\n",
    "c = 1\n",
    "[max(i,r) for i in range(c, n+1)]"
   ]
  },
  {
   "cell_type": "code",
   "execution_count": null,
   "id": "explicit-hamilton",
   "metadata": {},
   "outputs": [],
   "source": [
    "1 2 3 4 5 6\n",
    "2 2 3 4 5 6\n",
    "3 3 3 4 5 6\n",
    "4 4 4 4 5 6\n",
    "5 5 5 5 5 6\n",
    "6 6 6 6 6 6\n",
    "\n",
    "1 2 3\n",
    "2 2 3\n",
    "3 3 3\n",
    "\n",
    "1 2 3 4\n",
    "2 2 3 4\n",
    "3 3 3 4\n",
    "4 4 4 4"
   ]
  }
 ],
 "metadata": {
  "kernelspec": {
   "display_name": "Python 3",
   "language": "python",
   "name": "python3"
  },
  "language_info": {
   "codemirror_mode": {
    "name": "ipython",
    "version": 3
   },
   "file_extension": ".py",
   "mimetype": "text/x-python",
   "name": "python",
   "nbconvert_exporter": "python",
   "pygments_lexer": "ipython3",
   "version": "3.8.8"
  }
 },
 "nbformat": 4,
 "nbformat_minor": 5
}
