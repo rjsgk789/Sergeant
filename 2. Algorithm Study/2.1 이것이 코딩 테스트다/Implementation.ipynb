{
 "cells": [
  {
   "cell_type": "code",
   "execution_count": 8,
   "metadata": {},
   "outputs": [
    {
     "name": "stdout",
     "output_type": "stream",
     "text": [
      "5\n",
      "R R R U D D\n",
      "3 4\n"
     ]
    }
   ],
   "source": [
    "# p.110 상하좌우\n",
    "'''\n",
    "우 하 좌 상 순으로 dx, dy설정\n",
    "'''\n",
    "\n",
    "n = int(input())\n",
    "\n",
    "vect = list(map(str, input().split())) # 그냥 vect = input().split() 하면 됨\n",
    "\n",
    "# 우 하 좌 상 순서\n",
    "dr = [0, 1, 0, -1]\n",
    "dc = [1, 0, -1, 0]\n",
    "check = ['R', 'D', 'L', 'U']\n",
    "\n",
    "now_r = 1\n",
    "now_c = 1\n",
    "for v in vect:\n",
    "    for i in range(4):\n",
    "        if v != check[i]:\n",
    "            continue\n",
    "        else:\n",
    "            temp_r = now_r + dr[i]\n",
    "            temp_c = now_c + dc[i]\n",
    "            \n",
    "            if temp_r<1 or temp_c<1 or temp_r>5 or temp_c>5:\n",
    "                break\n",
    "            else:\n",
    "                now_r = temp_r\n",
    "                now_c = temp_c\n",
    "            break\n",
    "\n",
    "print(now_r, now_c)"
   ]
  },
  {
   "cell_type": "code",
   "execution_count": 10,
   "metadata": {},
   "outputs": [
    {
     "name": "stdout",
     "output_type": "stream",
     "text": [
      "5\n",
      "R R R U D D\n",
      "3 4\n"
     ]
    }
   ],
   "source": [
    "n = int(input())\n",
    "\n",
    "vect = list(map(str, input().split())) # 그냥 vect = input().split() 하면 됨\n",
    "\n",
    "# 우 하 좌 상 순서\n",
    "dr = [0, 1, 0, -1]\n",
    "dc = [1, 0, -1, 0]\n",
    "check = ['R', 'D', 'L', 'U']\n",
    "\n",
    "now_r = 1\n",
    "now_c = 1\n",
    "for v in vect:\n",
    "    \n",
    "    for i in range(4):\n",
    "        if v == check[i]:\n",
    "            temp_r = now_r + dr[i]\n",
    "            temp_c = now_c + dc[i]\n",
    "            break\n",
    "\n",
    "    if temp_r>=1 and temp_c>=1 and temp_r<=5 and temp_c<=5:\n",
    "        now_r = temp_r\n",
    "        now_c = temp_c\n",
    "\n",
    "print(now_r, now_c)"
   ]
  },
  {
   "cell_type": "code",
   "execution_count": 12,
   "metadata": {},
   "outputs": [
    {
     "name": "stdout",
     "output_type": "stream",
     "text": [
      "5\n",
      "11475\n"
     ]
    }
   ],
   "source": [
    "# p.113 시각\n",
    "'''\n",
    "00 00 00 ~ N 59 59\n",
    "\n",
    "0~N\n",
    "    0~59\n",
    "        0~59\n",
    "            3 있으면 count\n",
    "'''\n",
    "\n",
    "n = int(input())\n",
    "\n",
    "count = 0\n",
    "for h in range(n+1):\n",
    "    for m in range(60):\n",
    "        for s in range(60):\n",
    "            if '3' in str(h)+str(m)+str(s):\n",
    "                count += 1\n",
    "\n",
    "print(count)"
   ]
  },
  {
   "cell_type": "code",
   "execution_count": 32,
   "metadata": {
    "scrolled": true
   },
   "outputs": [],
   "source": [
    "'''\n",
    "구현 문제는 보면 볼수록 힘이 빠지는 것 같은데 기분 탓인가\n",
    "'''\n",
    "pass"
   ]
  },
  {
   "cell_type": "code",
   "execution_count": 33,
   "metadata": {},
   "outputs": [
    {
     "name": "stdout",
     "output_type": "stream",
     "text": [
      "97\n",
      "A\n"
     ]
    }
   ],
   "source": [
    "print(ord('a'))\n",
    "print(chr(65))"
   ]
  },
  {
   "cell_type": "code",
   "execution_count": null,
   "metadata": {},
   "outputs": [],
   "source": []
  }
 ],
 "metadata": {
  "kernelspec": {
   "display_name": "Python 3",
   "language": "python",
   "name": "python3"
  },
  "language_info": {
   "codemirror_mode": {
    "name": "ipython",
    "version": 3
   },
   "file_extension": ".py",
   "mimetype": "text/x-python",
   "name": "python",
   "nbconvert_exporter": "python",
   "pygments_lexer": "ipython3",
   "version": "3.8.5"
  }
 },
 "nbformat": 4,
 "nbformat_minor": 4
}
