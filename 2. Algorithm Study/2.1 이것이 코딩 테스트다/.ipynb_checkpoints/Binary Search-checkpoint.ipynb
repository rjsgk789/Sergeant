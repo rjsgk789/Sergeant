{
 "cells": [
  {
   "cell_type": "code",
   "execution_count": 1,
   "metadata": {},
   "outputs": [
    {
     "name": "stdout",
     "output_type": "stream",
     "text": [
      "10 7\n",
      "1 3 5 7 9 11 13 15 17 19\n",
      "4\n"
     ]
    }
   ],
   "source": [
    "# p.189\n",
    "\n",
    "def binary_search(array, target, start, end):\n",
    "    if start > end:\n",
    "        return None\n",
    "    mid = (start + end) // 2\n",
    "    \n",
    "    # 찾은 경우 인덱스 반환\n",
    "    if array[mid] == target:\n",
    "        return mid\n",
    "    elif array[mid] > target:\n",
    "        return binary_search(array, target, start, mid-1)\n",
    "    else:\n",
    "        return binary_search(array, target, mid+1, end)\n",
    "\n",
    "n, target = list(map(int, input().split()))\n",
    "\n",
    "array = list(map(int, input().split()))\n",
    "\n",
    "result = binary_search(array, target, 0, n-1)\n",
    "if result == None:\n",
    "    print(\"원소가 존재하지 않습니다.\")\n",
    "else:\n",
    "    print(result+1)"
   ]
  },
  {
   "cell_type": "code",
   "execution_count": 3,
   "metadata": {},
   "outputs": [
    {
     "name": "stdout",
     "output_type": "stream",
     "text": [
      "10 7\n",
      "1 3 5 7 9 11 13 15 17 19\n",
      "3\n",
      "4\n"
     ]
    }
   ],
   "source": [
    "from bisect import bisect_left, bisect_right\n",
    "\n",
    "n, target = list(map(int, input().split()))\n",
    "\n",
    "array = list(map(int, input().split()))\n",
    "\n",
    "result = bisect_left(array, target)\n",
    "print(result)\n",
    "\n",
    "result2 = bisect_right(array, target)\n",
    "print(result2)"
   ]
  },
  {
   "cell_type": "code",
   "execution_count": 31,
   "metadata": {},
   "outputs": [
    {
     "name": "stdout",
     "output_type": "stream",
     "text": [
      "5\n",
      "8 3 7 9 2\n",
      "3\n",
      "5 7 9\n",
      "no yes yes no yes yes no yes yes no yes yes no yes yes no yes yes no yes yes no yes yes no yes yes no yes yes no yes yes no yes yes no yes yes no yes yes no yes yes no yes yes no yes yes no yes yes no yes yes no yes yes no yes yes no yes yes no yes yes no yes yes no yes yes no yes yes no yes yes no yes yes no yes yes no yes yes no yes yes no yes yes no yes yes no yes yes no yes yes no yes yes no yes yes no yes yes no yes yes no yes yes no yes yes no yes yes no yes yes no yes yes no yes yes no yes yes no yes yes no yes yes no yes yes no yes yes no yes yes no yes yes no yes yes no yes yes no yes yes no yes yes no yes yes no yes yes no yes yes no yes yes no yes yes no yes yes no yes yes no yes yes no yes yes no yes yes no yes yes no yes yes no yes yes no yes yes no yes yes no yes yes no yes yes no yes yes no yes yes no yes yes no yes yes no yes yes no yes yes no yes yes no yes yes no yes yes no yes yes no yes yes no yes yes no yes yes no yes yes no yes yes no yes yes no yes yes no yes yes no yes yes no yes yes no yes yes no yes yes no yes yes no yes yes no yes yes no yes yes no yes yes 0.007996320724487305\n"
     ]
    }
   ],
   "source": [
    "'''\n",
    "p.197 부품 찾기\n",
    "\n",
    "N개의 부품을 가지고 있다\n",
    "M개의 부품을 요청했는데, 다 있는지 확인하는 프로그램을 작성하자\n",
    "'''\n",
    "def binary_search(array, target, start, end):\n",
    "    if start > end:\n",
    "        return None\n",
    "    mid = (start + end) // 2\n",
    "    \n",
    "    # 찾은 경우 인덱스 반환\n",
    "    if array[mid] == target:\n",
    "        return mid\n",
    "    elif array[mid] > target:\n",
    "        return binary_search(array, target, start, mid-1)\n",
    "    else:\n",
    "        return binary_search(array, target, mid+1, end)\n",
    "\n",
    "\n",
    "import time\n",
    "\n",
    "# n 입력받고\n",
    "n = int(input())\n",
    "# n 개의 부품들 입력받기 (have)\n",
    "have = list(map(int, input().split()))\n",
    "\n",
    "# m 입력받고\n",
    "m = int(input())\n",
    "# m 개의 부품들 입력받기 (want) (want가 정렬되어있다고 가정하자)\n",
    "want = list(map(int, input().split()))\n",
    "\n",
    "before = time.time()\n",
    "# have를 sort한다\n",
    "for i in range(100):\n",
    "    have.sort()\n",
    "\n",
    "    mini = 0\n",
    "    maxi = n-1\n",
    "    # want 안에서 반복 (one)\n",
    "    for one in want:\n",
    "        # 이진 탐색으로 one 이 have 안에 있는지 체크\n",
    "        index = binary_search(have, one, mini, maxi)\n",
    "        # 있으면 인덱스 받고, yes 출력\n",
    "        # min을 받은 인덱스로 교체\n",
    "        if index != None:\n",
    "            print('yes', end=' ')\n",
    "            mini = index\n",
    "        # 없으면 no 출력\n",
    "        else:\n",
    "            print('no', end=' ')\n",
    "\n",
    "after = time.time()\n",
    "\n",
    "print(after - before)\n",
    "\n",
    "\n",
    "'''\n",
    "want가 sort되어있으니까 두번째부터는 0 ~ n-1 사이를 탐색하는 것이 아니라, mini(전 인덱스) ~ n-1 사이를 탐색하는 것이다.\n",
    "want가 sort되어있지 않으면 sort하는 시간이 더 오래걸릴 수도 있는 것 같다. 크기가 커지면 뭐가 더 좋을까?\n",
    "'''\n",
    "pass"
   ]
  },
  {
   "cell_type": "code",
   "execution_count": 6,
   "metadata": {},
   "outputs": [
    {
     "name": "stdout",
     "output_type": "stream",
     "text": [
      "5\n",
      "8 3 7 9 2\n",
      "3\n",
      "5 7 9\n",
      "no no yes no no yes no no yes no no yes no no yes no no yes no no yes no no yes no no yes no no yes no no yes no no yes no no yes no no yes no no yes no no yes no no yes no no yes no no yes no no yes no no yes no no yes no no yes no no yes no no yes no no yes no no yes no no yes no no yes no no yes no no yes no no yes no no yes no no yes no no yes no no yes no no yes no no yes no no yes no no yes no no yes no no yes no no yes no no yes no no yes no no yes no no yes no no yes no no yes no no yes no no yes no no yes no no yes no no yes no no yes no no yes no no yes no no yes no no yes no no yes no no yes no no yes no no yes no no yes no no yes no no yes no no yes no no yes no no yes no no yes no no yes no no yes no no yes no no yes no no yes no no yes no no yes no no yes no no yes no no yes no no yes no no yes no no yes no no yes no no yes no no yes no no yes no no yes no no yes no no yes no no yes no no yes no no yes no no yes no no yes no no yes no no yes no no yes no no yes no no yes 0.00899362564086914\n"
     ]
    }
   ],
   "source": [
    "def binary_search(array, target, start, end):\n",
    "    if start > end:\n",
    "        return None\n",
    "    mid = (start + end) // 2\n",
    "    \n",
    "    # 찾은 경우 인덱스 반환\n",
    "    if array[mid] == target:\n",
    "        return mid\n",
    "    elif array[mid] > target:\n",
    "        return binary_search(array, target, start, mid-1)\n",
    "    else:\n",
    "        return binary_search(array, target, mid+1, end)\n",
    "\n",
    "\n",
    "import time\n",
    "\n",
    "# n 입력받고\n",
    "n = int(input())\n",
    "# n 개의 부품들 입력받기 (have)\n",
    "have = list(map(int, input().split()))\n",
    "\n",
    "# m 입력받고\n",
    "m = int(input())\n",
    "# m 개의 부품들 입력받기 (want)\n",
    "want = list(map(int, input().split()))\n",
    "\n",
    "before = time.time()\n",
    "# have를 sort한다\n",
    "\n",
    "for i in range(100):\n",
    "    have.sort()\n",
    "\n",
    "    # want 안에서 반복 (one)\n",
    "    for one in want:\n",
    "        # 이진 탐색으로 one 이 have 안에 있는지 체크\n",
    "        index = binary_search(have, one, mini, maxi)\n",
    "        # 있으면 yes 출력\n",
    "        if index != None:\n",
    "            print('yes', end=' ')\n",
    "        # 없으면 no 출력\n",
    "        else:\n",
    "            print('no', end=' ')\n",
    "\n",
    "after = time.time()\n",
    "\n",
    "print(after - before)"
   ]
  },
  {
   "cell_type": "code",
   "execution_count": 8,
   "metadata": {},
   "outputs": [],
   "source": [
    "'''\n",
    "계수정렬, 집합 자료형으로도 된대\n",
    "'''\n",
    "pass"
   ]
  },
  {
   "cell_type": "code",
   "execution_count": 20,
   "metadata": {},
   "outputs": [
    {
     "name": "stdout",
     "output_type": "stream",
     "text": [
      "4 6\n",
      "19 15 10 17\n",
      "15\n"
     ]
    }
   ],
   "source": [
    "'''\n",
    "p.201 떡볶이 떡 만들기\n",
    "\n",
    "절단기 높이 H\n",
    "절단기로 자른 후 남은 부분 손님한테\n",
    "요청한 길이 M\n",
    "M만큼의 떡을 얻기 위해 절단기에 설정할 수 있는 H의 최댓값\n",
    "'''\n",
    "\n",
    "# 떡의 개수 N, 요청한 떡 M 입력받기\n",
    "n,m = map(int, input().split())\n",
    "\n",
    "# 떡볶이 떡의 길이 배열 입력받기\n",
    "have = list(map(int, input().split()))\n",
    "\n",
    "# 자를수 있는 범위 -> 0 ~ max(떡볶이 떡 배열)\n",
    "## 이진탐색 함수 (받는 값 - 최솟값 최댓값, 떡볶이 떡 배열과 M은 global 변수로)\n",
    "def binary_search():\n",
    "    global have, m\n",
    "    answer = 0\n",
    "    \n",
    "    mini = 0\n",
    "    maxi = max(have)\n",
    "    \n",
    "    while(maxi >= mini):\n",
    "        mid = (mini + maxi) // 2\n",
    "        # 중앙값으로 잘라본 후\n",
    "        left = 0\n",
    "        for i in have:\n",
    "            left += max(i-mid, 0)\n",
    "        \n",
    "        if left == m:\n",
    "            answer = mid\n",
    "            return answer\n",
    "        \n",
    "        # 남은 떡의 길이가 M보다 크면  높이 up (범위를 현재 ~ max로 바꿔야겠지) (그 전에 결과값 저장하자.)\n",
    "        if left >= m:\n",
    "            answer = mid\n",
    "            mini = mid + 1\n",
    "        \n",
    "        # 남은 떡의 길이가 M보다 작으면 높이 down (범위를 min ~ 현재로 바꿔야겠지)\n",
    "        else:\n",
    "            maxi = mid - 1\n",
    "    \n",
    "    return answer\n",
    "\n",
    "\n",
    "# return값으로 결과 도출\n",
    "print(binary_search())"
   ]
  },
  {
   "cell_type": "code",
   "execution_count": 29,
   "metadata": {},
   "outputs": [
    {
     "name": "stdout",
     "output_type": "stream",
     "text": [
      "4\n"
     ]
    }
   ],
   "source": [
    "'''\n",
    "p.367 정렬된 배열에서 특정 수의 개수 구하기\n",
    "target 숫자의 젤 왼쪽 index와 젤 오른쪽 index를 구해서 해도 되고,\n",
    "bisect -> bisect_left, bisect_right 함수를 이용해도 됨.\n",
    "'''\n",
    "from bisect import bisect_left, bisect_right\n",
    "\n",
    "# n과 target x 입력받기\n",
    "n, x = 7, 2\n",
    "\n",
    "# 수열 입력받기\n",
    "nums = [1, 1, 2, 2, 2, 2, 3]\n",
    "\n",
    "if x not in nums:\n",
    "    print(-1)\n",
    "\n",
    "# bisect_left , right로 개수 세기\n",
    "else:\n",
    "    answer = bisect_right(nums, x) - bisect_left(nums, x)\n",
    "    print(answer)"
   ]
  },
  {
   "cell_type": "code",
   "execution_count": 32,
   "metadata": {},
   "outputs": [
    {
     "name": "stdout",
     "output_type": "stream",
     "text": [
      "7\n",
      "-15 -4 3 8 9 13 15\n",
      "-1\n"
     ]
    }
   ],
   "source": [
    "'''\n",
    "p.368 고정점 찾기\n",
    "고정점 : 그 값이 인덱스와 동일한 원소\n",
    "\n",
    "오름차순 정렬\n",
    "고정점 찾기\n",
    "'''\n",
    "\n",
    "# 수열의 원소 개수 n 입력받기\n",
    "n = int(input())\n",
    "\n",
    "# 수열 입력받기\n",
    "nums = list(map(int, input().split()))\n",
    "\n",
    "## binary_search 함수 (mini, maxi 받고, 수열 받기)\n",
    "def binary_search(nums, mini, maxi):\n",
    "    while(maxi >= mini):\n",
    "        # 중간값 인덱스 계산\n",
    "        mid = (mini + maxi) // 2\n",
    "\n",
    "        # 인덱스 == 값이면 답 저장하고 return\n",
    "        if mid == nums[mid]:\n",
    "            return mid\n",
    "\n",
    "        # 중간값의 인덱스가 그 값보다 크면 뒤를 search해야함 - mini를 현재+1로 바꾼다\n",
    "        elif mid > nums[mid]:\n",
    "            mini = mid + 1\n",
    "\n",
    "        # 그 반대이면, 앞을 search해야하므로 maxi를 현재-1로 바꾼다\n",
    "        else:\n",
    "            maxi = mid - 1\n",
    "    # return -1\n",
    "    return -1\n",
    "\n",
    "\n",
    "answer = binary_search(nums, 0, len(nums))\n",
    "# return값으로 답 도출\n",
    "print(answer)\n",
    "\n",
    "'''\n",
    "(값 - 인덱스) 를 인자로 갖는 list를 만들어서 bisect 써도 되겠다 (0을 찾는거지) (오름차순이 변할수도 있나? 값이 연속으로 같으면?)\n",
    "'''"
   ]
  },
  {
   "cell_type": "code",
   "execution_count": 33,
   "metadata": {},
   "outputs": [],
   "source": [
    "'''\n",
    "binary_search를 반복문으로 구현할 수도 있고, 재귀 함수로도 구현할 수 있다.\n",
    "개인적으로는 반복문이 더 효율적이라고 생각하는데, 실제로 어떨까?\n",
    "메모리 생각하면 반복문이 더 좋지 않을까?\n",
    "'''\n",
    "pass"
   ]
  },
  {
   "cell_type": "code",
   "execution_count": 35,
   "metadata": {},
   "outputs": [
    {
     "name": "stdout",
     "output_type": "stream",
     "text": [
      "2\n",
      "2\n"
     ]
    }
   ],
   "source": [
    "from bisect import bisect_left, bisect_right\n",
    "\n",
    "nums = [1, 3, 5, 7, 9]\n",
    "\n",
    "print(bisect_left(nums, 4))\n",
    "print(bisect_right(nums, 4))"
   ]
  },
  {
   "cell_type": "code",
   "execution_count": 1,
   "metadata": {},
   "outputs": [],
   "source": [
    "'''\n",
    "p.369 공유기 설치\n",
    "\n",
    "인덱스로 하면 안돼 (1, 100, 101, 102, 103, 104) (1, 2, 3, 4, 5, 6, 100)\n",
    "\n",
    "C가 2개 - 양쪽 끝\n",
    "C가 3개 - 양쪽 + 합/2 랑 가까운 값\n",
    "    -> index와의 차를 이용해 binary_search\n",
    "C가 4개 - 양쪽 + 합/3 랑 가까운 index, 합*2/3 랑 가까운 index ??? 애매해\n",
    "\n",
    "\n",
    "\n",
    "C가 N개 - N 등분한 맨 왼쪽 bisect로 찾고, 나머지를 C가 N-1개일 때로 (bisect_left로 해야할지 right로 해야할지...)\n",
    "안 돼\n",
    "'''\n",
    "\n",
    "    # mini + ( (maxi - mini) // n ) # 이 값을 찾는거지\n",
    "\n",
    "## 탐색 함수 (mini, maxi, nums리스트, c값 받아야함)\n",
    "    # bisect로 C-1등분한 맨 왼쪽 값의 인덱스 찾기\n",
    "pass"
   ]
  },
  {
   "cell_type": "code",
   "execution_count": 11,
   "metadata": {},
   "outputs": [
    {
     "data": {
      "text/plain": [
       "2"
      ]
     },
     "execution_count": 11,
     "metadata": {},
     "output_type": "execute_result"
    }
   ],
   "source": [
    "from bisect import bisect_left, bisect_right\n",
    "\n",
    "houses = [1, 3, 5, 7, 9]\n",
    "num = 4\n",
    "bisect_left(houses, num)"
   ]
  },
  {
   "cell_type": "code",
   "execution_count": 30,
   "metadata": {},
   "outputs": [
    {
     "data": {
      "text/plain": [
       "3"
      ]
     },
     "execution_count": 30,
     "metadata": {},
     "output_type": "execute_result"
    }
   ],
   "source": [
    "'''\n",
    "와... 관점을 바꾸자...\n",
    "공유기 사이의 가장 짧은 거리를 변수로 두고, 그 수를 이진탐색으로 찾는 것이다.\n",
    "\n",
    "이게 이진탐색의 포인트는, 이진 탐색을 하는 변수를 정하는 것과 어느쪽으로 탐색해야 하는지 기준(조건)을 잡는 것 같다.\n",
    "'''\n",
    "from bisect import bisect_left\n",
    "\n",
    "# 집의개수 n, 공유기의 개수 c를 입력받는다\n",
    "n, c = 5, 4\n",
    "# 집의 좌표들을 리스틀로 입력받는다\n",
    "houses = [1, 93, 95, 96, 97, 99]\n",
    "houses.sort()\n",
    "\n",
    "\n",
    "## binary_search 함수 (집 좌표 리스트, mini, maxi 받기) + 공유기 개수까지 받기\n",
    "def binary_search(houses, mini, maxi, c):\n",
    "    first = houses[0]\n",
    "    last = houses[len(houses)-1]\n",
    "    \n",
    "    while(maxi >= mini):\n",
    "        # mid 설정\n",
    "        mid = (mini + maxi) // 2\n",
    "        \n",
    "        # first 좌표, first+1mid 좌표(second), second+1mid 좌표(third) ... C개만큼 했을 때 마지막이 집의 마지막 좌표랑 같으면 정답\n",
    "        now = first\n",
    "        for i in range(c-1):\n",
    "            now_idx = bisect_left(houses, now + mid) # now + mid 보다 큰데 가장 가까운 숫자의 인덱스\n",
    "            if now_idx >= len(houses):\n",
    "                break\n",
    "            now = houses[now_idx]\n",
    "\n",
    "        if now_idx == len(houses)-1:\n",
    "            answer = mid\n",
    "            return answer\n",
    "        # 집의 마지막보다 커져버리면, down\n",
    "        elif now_idx > len(houses)-1:\n",
    "            maxi = mid - 1\n",
    "        # 집의 마지막보다 작으면, 정답 저장해놓고 up\n",
    "        else:\n",
    "            answer = mid\n",
    "            mini = mid + 1\n",
    "    return answer\n",
    "\n",
    "\n",
    "# binary_search 호출 - 집 좌표, mini(1), maxi( (last - first) // (c-1) )\n",
    "binary_search(houses, 1, (houses[len(houses)-1] - houses[0]) // (c-1), c)"
   ]
  },
  {
   "cell_type": "code",
   "execution_count": 35,
   "metadata": {},
   "outputs": [
    {
     "name": "stdout",
     "output_type": "stream",
     "text": [
      "[3, 2, 4, 1, 0]\n"
     ]
    }
   ],
   "source": [
    "'''\n",
    "p.370 가사 검색\n",
    "\n",
    "가사에 사용된 모든 단어들이 담긴 배열 words\n",
    "찾고자 하는 키워드가 담긴 배열 queries\n",
    "각 키워드 별로 매치된 단어가 몇 개인지 순서대로 배열에 담아 출력하라.\n",
    "\n",
    "이거 그냥 하면 안되나?\n",
    "queries 안에서 반복해서 words안에 있는 것들 매칭해보면서 맞으면 카운트하면 안되나? 일단 해보자\n",
    "\n",
    "'''\n",
    "\n",
    "# words랑 queries 입력받기\n",
    "words = [\"frodo\", \"front\", \"frost\", \"frozen\", \"frame\", \"kakao\"]\n",
    "queries = [\"fro??\", \"????o\", \"fr???\", \"fro???\", \"pro?\"]\n",
    "\n",
    "answer = []\n",
    "# queries 안에서 반복 (query)\n",
    "for query in queries:\n",
    "    count = 0\n",
    "    \n",
    "    # words 안에서 반복 (word)\n",
    "    for word in words:\n",
    "        # query word 길이 다르면 break\n",
    "        same = True\n",
    "        if len(query) != len(word):\n",
    "            same = False\n",
    "            continue\n",
    "        \n",
    "        # 같으면 인덱스끼리 비교하는거지 ?면 pass 같으면 pass 틀리면 틀린거 체크하고 break\n",
    "        else:\n",
    "            for i in range(len(query)):\n",
    "                if query[i] == '?':\n",
    "                    pass\n",
    "                elif query[i] == word[i]:\n",
    "                    pass\n",
    "                else:\n",
    "                    same = False\n",
    "                    break\n",
    "        \n",
    "        # 틀린거 체크되어있으면 pass 아니면 count\n",
    "        if same == True:\n",
    "            count += 1\n",
    "    answer.append(count)\n",
    "\n",
    "print(answer)"
   ]
  },
  {
   "cell_type": "code",
   "execution_count": null,
   "metadata": {},
   "outputs": [],
   "source": [
    "'''\n",
    "지렸다리 이걸 어떻게 이진탐색 문제로 보는거지 ㅋㅋㅋㅋㅋ\n",
    "길이별로 리스트 나눠서 각각 sort해\n",
    "?가 뒤쪽에 나오는 거에 대비해서 reverse해서 각각 sort\n",
    "\n",
    "?를 a로 바꾼거 ~ ?를 z로 바꾼거 사이에 있는 단어들의 개수 -> bisect_left, bisect_right 로 구헤\n",
    "append\n",
    "끝\n",
    "'''\n",
    "pass"
   ]
  }
 ],
 "metadata": {
  "kernelspec": {
   "display_name": "Python 3",
   "language": "python",
   "name": "python3"
  },
  "language_info": {
   "codemirror_mode": {
    "name": "ipython",
    "version": 3
   },
   "file_extension": ".py",
   "mimetype": "text/x-python",
   "name": "python",
   "nbconvert_exporter": "python",
   "pygments_lexer": "ipython3",
   "version": "3.8.5"
  }
 },
 "nbformat": 4,
 "nbformat_minor": 4
}
