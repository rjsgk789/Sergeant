{
 "cells": [
  {
   "cell_type": "code",
   "execution_count": null,
   "id": "intensive-silver",
   "metadata": {},
   "outputs": [],
   "source": [
    "'''\n",
    "https://www.acmicpc.net/problem/tags\n",
    "'''"
   ]
  },
  {
   "cell_type": "code",
   "execution_count": null,
   "id": "tropical-theorem",
   "metadata": {},
   "outputs": [],
   "source": [
    "## 15684\n",
    "'''\n",
    "N개의 세로선과 M개의 가로선\n",
    "'''"
   ]
  },
  {
   "cell_type": "code",
   "execution_count": null,
   "id": "baking-furniture",
   "metadata": {},
   "outputs": [],
   "source": [
    "'''\n",
    "그 코딩테스트 문제\n",
    "3, 2, 1, 4\n",
    "골랐을 때\n",
    "결과가 1, 2, 3, 4 나오게 하려면\n",
    "선 몇개 그어야하는지 ??\n",
    "'''"
   ]
  }
 ],
 "metadata": {
  "kernelspec": {
   "display_name": "Python 3",
   "language": "python",
   "name": "python3"
  },
  "language_info": {
   "codemirror_mode": {
    "name": "ipython",
    "version": 3
   },
   "file_extension": ".py",
   "mimetype": "text/x-python",
   "name": "python",
   "nbconvert_exporter": "python",
   "pygments_lexer": "ipython3",
   "version": "3.8.8"
  }
 },
 "nbformat": 4,
 "nbformat_minor": 5
}
