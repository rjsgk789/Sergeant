{
 "cells": [
  {
   "cell_type": "code",
   "execution_count": null,
   "id": "freelance-sharing",
   "metadata": {},
   "outputs": [],
   "source": [
    "'''\n",
    "https://www.acmicpc.net/problemset?sort=ac_desc&algo=25\n",
    "'''"
   ]
  },
  {
   "cell_type": "code",
   "execution_count": 5,
   "id": "classical-switch",
   "metadata": {},
   "outputs": [
    {
     "name": "stdout",
     "output_type": "stream",
     "text": [
      "10\n",
      "3\n"
     ]
    }
   ],
   "source": [
    "# 1463번 1로 만들기\n",
    "'''\n",
    "3으로 나누어 떨어지면 3으로 나눈다\n",
    "2\n",
    "1을 뺀다\n",
    "\n",
    "3개의 연산 가능\n",
    "연산 최소화.\n",
    "\n",
    "'''\n",
    "\n",
    "# n 입력받기\n",
    "n = int(input())\n",
    "\n",
    "dp = [100001] * (n+1)\n",
    "dp[1] = 0\n",
    "\n",
    "# 2~n까지 반복\n",
    "for i in range(2, n+1):\n",
    "    dp[i] = dp[i-1] + 1\n",
    "    # 3으로 나눠지면 dp[i//3]+1\n",
    "    if i%3 == 0:\n",
    "        dp[i] = min(dp[i], dp[i//3]+1)\n",
    "    # 2로 나눠지면 dp[i//2]+1\n",
    "    if i%2 == 0:\n",
    "        dp[i] = min(dp[i], dp[i//2]+1)\n",
    "    # 아니면 dp[i-1]+1 중에서 최소\n",
    "\n",
    "print(dp[n])"
   ]
  },
  {
   "cell_type": "code",
   "execution_count": 15,
   "id": "defensive-introduction",
   "metadata": {},
   "outputs": [
    {
     "name": "stdout",
     "output_type": "stream",
     "text": [
      "3\n",
      "4\n",
      "7\n",
      "10\n",
      "7\n",
      "44\n",
      "274\n"
     ]
    }
   ],
   "source": [
    "# 9095번 1, 2, 3 더하기\n",
    "'''\n",
    "1, 2, 3 의 합으로 각 숫자를 나타내는 경우의수\n",
    "\n",
    "1 -> 1\n",
    "2 -> 1의 경우의수+1, 2\n",
    "3 -> 1의 경우의수+2, 2의 경우의수+1, 3\n",
    "4 -> 1의 경우의수+3, 2의 경우의수+2, 3의 경우의수+1\n",
    "...\n",
    "'''\n",
    "\n",
    "# tastCase의 개수 t 입력받고\n",
    "t = int(input())\n",
    "\n",
    "nums = []\n",
    "# n들을 입력받아\n",
    "for i in range(t):\n",
    "    nums.append(int(input()))\n",
    "\n",
    "dp = [0, 1, 2, 4]\n",
    "\n",
    "# 4부터 n까지 반복\n",
    "for i in range(4, 12):\n",
    "    # dp[i] = dp[i-3] + dp[i-2] + dp[i-1]\n",
    "    dp.append(sum(dp[i-3: i]))\n",
    "\n",
    "for i in range(t):\n",
    "    print(dp[nums[i]])"
   ]
  },
  {
   "cell_type": "code",
   "execution_count": null,
   "id": "dense-ticket",
   "metadata": {},
   "outputs": [],
   "source": []
  }
 ],
 "metadata": {
  "kernelspec": {
   "display_name": "Python 3",
   "language": "python",
   "name": "python3"
  },
  "language_info": {
   "codemirror_mode": {
    "name": "ipython",
    "version": 3
   },
   "file_extension": ".py",
   "mimetype": "text/x-python",
   "name": "python",
   "nbconvert_exporter": "python",
   "pygments_lexer": "ipython3",
   "version": "3.8.8"
  }
 },
 "nbformat": 4,
 "nbformat_minor": 5
}
