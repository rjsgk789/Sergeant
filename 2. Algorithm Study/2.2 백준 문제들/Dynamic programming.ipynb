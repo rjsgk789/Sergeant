{
 "cells": [
  {
   "cell_type": "code",
   "execution_count": null,
   "id": "58bba8f4",
   "metadata": {},
   "outputs": [],
   "source": [
    "'''\n",
    "https://www.acmicpc.net/problemset?sort=ac_desc&algo=25\n",
    "'''"
   ]
  },
  {
   "cell_type": "code",
   "execution_count": 5,
   "id": "ba6b44ea",
   "metadata": {},
   "outputs": [
    {
     "name": "stdout",
     "output_type": "stream",
     "text": [
      "10\n",
      "3\n"
     ]
    }
   ],
   "source": [
    "# 1463번 1로 만들기\n",
    "'''\n",
    "3으로 나누어 떨어지면 3으로 나눈다\n",
    "2\n",
    "1을 뺀다\n",
    "\n",
    "3개의 연산 가능\n",
    "연산 최소화.\n",
    "\n",
    "'''\n",
    "\n",
    "# n 입력받기\n",
    "n = int(input())\n",
    "\n",
    "dp = [100001] * (n+1)\n",
    "dp[1] = 0\n",
    "\n",
    "# 2~n까지 반복\n",
    "for i in range(2, n+1):\n",
    "    dp[i] = dp[i-1] + 1\n",
    "    # 3으로 나눠지면 dp[i//3]+1\n",
    "    if i%3 == 0:\n",
    "        dp[i] = min(dp[i], dp[i//3]+1)\n",
    "    # 2로 나눠지면 dp[i//2]+1\n",
    "    if i%2 == 0:\n",
    "        dp[i] = min(dp[i], dp[i//2]+1)\n",
    "    # 아니면 dp[i-1]+1 중에서 최소\n",
    "\n",
    "print(dp[n])"
   ]
  },
  {
   "cell_type": "code",
   "execution_count": 15,
   "id": "6dcde5d7",
   "metadata": {},
   "outputs": [
    {
     "name": "stdout",
     "output_type": "stream",
     "text": [
      "3\n",
      "4\n",
      "7\n",
      "10\n",
      "7\n",
      "44\n",
      "274\n"
     ]
    }
   ],
   "source": [
    "# 9095번 1, 2, 3 더하기\n",
    "'''\n",
    "1, 2, 3 의 합으로 각 숫자를 나타내는 경우의수\n",
    "\n",
    "1 -> 1\n",
    "2 -> 1의 경우의수+1, 2\n",
    "3 -> 1의 경우의수+2, 2의 경우의수+1, 3\n",
    "4 -> 1의 경우의수+3, 2의 경우의수+2, 3의 경우의수+1\n",
    "...\n",
    "'''\n",
    "\n",
    "# tastCase의 개수 t 입력받고\n",
    "t = int(input())\n",
    "\n",
    "nums = []\n",
    "# n들을 입력받아\n",
    "for i in range(t):\n",
    "    nums.append(int(input()))\n",
    "\n",
    "dp = [0, 1, 2, 4]\n",
    "\n",
    "# 4부터 n까지 반복\n",
    "for i in range(4, 12):\n",
    "    # dp[i] = dp[i-3] + dp[i-2] + dp[i-1]\n",
    "    dp.append(sum(dp[i-3: i]))\n",
    "\n",
    "for i in range(t):\n",
    "    print(dp[nums[i]])"
   ]
  },
  {
   "cell_type": "code",
   "execution_count": 37,
   "id": "ef841ead",
   "metadata": {},
   "outputs": [
    {
     "name": "stdout",
     "output_type": "stream",
     "text": [
      "5\n",
      "1\n",
      "0 1\n",
      "2\n",
      "1 1\n",
      "3\n",
      "1 2\n",
      "4\n",
      "2 3\n",
      "5\n",
      "3 5\n"
     ]
    }
   ],
   "source": [
    "# 1003번 피보나치 함수\n",
    "'''\n",
    "0 -> 0\n",
    "1 -> 1\n",
    "2 -> 0(1) 1(1)\n",
    "3 -> 2(1) 1(1)\n",
    "'''\n",
    "\n",
    "t = int(input())\n",
    "\n",
    "# 0과 1을 동시에 더해가는 dp를 만들자\n",
    "dp = [[0] * 41 for _ in range(2)]\n",
    "\n",
    "dp[0][0], dp[1][0] = 1, 0\n",
    "dp[0][1], dp[1][1] = 0, 1\n",
    "for i in range(2, 41):\n",
    "    dp[0][i], dp[1][i] = dp[0][i-2]+dp[0][i-1], dp[1][i-2]+dp[1][i-1]\n",
    "\n",
    "answer = []\n",
    "for i in range(t):\n",
    "    num = int(input())\n",
    "    print(dp[0][num], dp[1][num])"
   ]
  },
  {
   "cell_type": "code",
   "execution_count": 4,
   "id": "bcc15eec",
   "metadata": {},
   "outputs": [
    {
     "name": "stdout",
     "output_type": "stream",
     "text": [
      "2\n",
      "2\n"
     ]
    }
   ],
   "source": [
    "# 11726번 2*n 타일링\n",
    "'''\n",
    "2*n 크기의 직사각형 -> 1x2랑 2x1 직사각형으로 채우기\n",
    "\n",
    "1 -> 2X1 하나\n",
    "2 -> 전꺼 + 2X1 or 1X2 2개\n",
    "3 -> 전꺼 + 2X1 or 2전꺼 + 1X2 2개\n",
    "'''\n",
    "\n",
    "n = int(input())\n",
    "\n",
    "dp = [0] * max(3, (n+1))\n",
    "dp[1] = 1\n",
    "dp[2] = 2 # n=1일 때 오류남!!!!!!!!!!!!!!!\n",
    "\n",
    "for i in range(3, n+1):\n",
    "    dp[i] = (dp[i-2] + dp[i-1]) % 10007\n",
    "\n",
    "print(dp[n]%10007)"
   ]
  },
  {
   "cell_type": "code",
   "execution_count": 12,
   "id": "802d46aa",
   "metadata": {},
   "outputs": [
    {
     "name": "stdout",
     "output_type": "stream",
     "text": [
      "0\n"
     ]
    }
   ],
   "source": [
    "# 10870번 피보나치 수 5\n",
    "\n",
    "n = int(input())\n",
    "\n",
    "dp = [0] * (n+1)\n",
    "\n",
    "if n>=1:\n",
    "    dp[1] = 1\n",
    "\n",
    "for i in range(2, n+1):\n",
    "    dp[i] = dp[i-2] + dp[i-1]\n",
    "\n",
    "print(dp[n])"
   ]
  },
  {
   "cell_type": "code",
   "execution_count": 24,
   "id": "9145411e",
   "metadata": {},
   "outputs": [
    {
     "name": "stdout",
     "output_type": "stream",
     "text": [
      "1\n",
      "1 2 3\n",
      "1\n"
     ]
    }
   ],
   "source": [
    "# 1149번\n",
    "'''\n",
    "전전집까지 + 전집 + 이번집\n",
    "\n",
    "dp[i] = dp[i-2] + \n",
    "'''\n",
    "# 숫자 배열을 받았을 때 가장 작은 수와 그 인덱스를 반환하는 함수\n",
    "def miniAndIdx(nums):\n",
    "    mini = max(nums)\n",
    "    for i in range(len(nums)):\n",
    "        if nums[i] < mini:\n",
    "            mini = nums[i]\n",
    "            idx = i\n",
    "    \n",
    "    return mini, idx\n",
    "\n",
    "# index가 같을 때 2개의 RGB를 받아 두 합이 최소가 되는 값과 마지막 idx를 반환하는 함수\n",
    "def miniInTwo(nums, nums2):\n",
    "    mini = max(nums) + max(nums2)\n",
    "    \n",
    "    for i in range(3):\n",
    "        for j in range(3):\n",
    "            if i==j:\n",
    "                continue\n",
    "            if nums[i]+nums2[j] < mini:\n",
    "                mini, idx = nums[i]+nums2[j], j\n",
    "                before_value, value = nums[i], nums2[j]\n",
    "    \n",
    "    return idx, before_value, value\n",
    "\n",
    "n = int(input())\n",
    "\n",
    "# price\n",
    "price = [[0,0,0]]\n",
    "\n",
    "for _ in range(n):\n",
    "    price.append(list(map(int, input().split())))\n",
    "\n",
    "dp = [0] * (n+1)\n",
    "\n",
    "before_value, before_idx = miniAndIdx(price[1])\n",
    "dp[1] = before_value\n",
    "\n",
    "for i in range(2, n+1):\n",
    "    value, idx = miniAndIdx(price[i])\n",
    "    if idx == before_idx:\n",
    "        idx, before_value, value = miniInTwo(price[i-1], price[i])\n",
    "    \n",
    "    dp[i] = dp[i-2] + value + before_value\n",
    "    \n",
    "    before_value = value\n",
    "    before_idx = idx\n",
    "\n",
    "print(dp[n])"
   ]
  },
  {
   "cell_type": "code",
   "execution_count": 1,
   "id": "37617748",
   "metadata": {},
   "outputs": [],
   "source": [
    "# 1149번\n",
    "'''\n",
    "전전집까지 + 전집 + 이번집\n",
    "\n",
    "알고리즘 이쁘게 다시 짜보자.\n",
    "'''\n",
    "pass"
   ]
  },
  {
   "cell_type": "code",
   "execution_count": 11,
   "id": "1eedad26",
   "metadata": {},
   "outputs": [
    {
     "name": "stdout",
     "output_type": "stream",
     "text": [
      "6\n",
      "10\n",
      "20\n",
      "15\n",
      "25\n",
      "10\n",
      "20\n",
      "75\n"
     ]
    }
   ],
   "source": [
    "# 2579번 계단 오르기\n",
    "'''\n",
    "밟을 수 있는 계단의 수가 제한되지는 않음.\n",
    "\n",
    "연속 세 계단 X\n",
    "한칸 or 2칸 올라갈 수 있음\n",
    "마지막칸 밟아야 함\n",
    "\n",
    "k번째 계단을 밟는 경우의 최댓값 (직전 계단을 밟은 경우 아닌 경우 나눠서)\n",
    "\n",
    "(직전 계단을 밟은 경우)\n",
    "1번째 -> s[1]\n",
    "2번째 -> s[1]+s[2]\n",
    "3번째 -> s[2]+s[3]\n",
    "4번째 -> s[1]+s[3]+s[4]\n",
    "5번째 -> s[1]+s[2]+s[4]+s[5]\n",
    "전번째 계단을 안밟은 경우 + s[k]\n",
    "\n",
    "(직전 계단을 안밟은 경우)\n",
    "1번째 -> s[1]\n",
    "2번째 -> s[2]\n",
    "3번째 -> s[1]+s[3]\n",
    "4번째 -> s[1]+s[2]+s[4]\n",
    "5번째 -> s[1]+s[3]+s[5] or s[2]+s[3]+s[5]\n",
    "전전번째 계단을 밟은경우 + s[k] or 전전번째 계단을 안밟은경우 + s[k]\n",
    "\n",
    "런타임에러남...\n",
    "'''\n",
    "\n",
    "length = int(input())\n",
    "for i in range(length):\n",
    "    steps.append(int(input()))\n",
    "\n",
    "dp = [[0, 0] for _ in range(length)] #dp[i][0] -> 직전 밟은 경우, dp[i][1] -> 직전 안밟은 경우\n",
    "\n",
    "dp[0][0], dp[0][1] = steps[0], steps[0]\n",
    "dp[1][0], dp[1][1] = steps[0]+steps[1], steps[1]\n",
    "\n",
    "for i in range(2, length):\n",
    "    dp[i][0] = dp[i-1][1] + steps[i]\n",
    "    dp[i][1] = max(dp[i-2][0]+steps[i], dp[i-2][1]+steps[i])\n",
    "\n",
    "print(max(dp[length-1]))"
   ]
  },
  {
   "cell_type": "code",
   "execution_count": null,
   "id": "8da7dc7d",
   "metadata": {},
   "outputs": [],
   "source": []
  }
 ],
 "metadata": {
  "kernelspec": {
   "display_name": "Python 3",
   "language": "python",
   "name": "python3"
  },
  "language_info": {
   "codemirror_mode": {
    "name": "ipython",
    "version": 3
   },
   "file_extension": ".py",
   "mimetype": "text/x-python",
   "name": "python",
   "nbconvert_exporter": "python",
   "pygments_lexer": "ipython3",
   "version": "3.8.8"
  }
 },
 "nbformat": 4,
 "nbformat_minor": 5
}
