{
 "cells": [
  {
   "cell_type": "code",
   "execution_count": 44,
   "id": "massive-receipt",
   "metadata": {},
   "outputs": [
    {
     "name": "stdout",
     "output_type": "stream",
     "text": [
      "2 1\n",
      "9999999999999999999999 9999\n",
      "10000000000000000009998\n",
      "1\n"
     ]
    }
   ],
   "source": [
    "# A 휴먼 파이프라인\n",
    "'''\n",
    "두 팀으로 나눠\n",
    "v - 1 2 3 4 5\n",
    "\n",
    "작업속도 = v의 최솟값 * 인원 수\n",
    "\n",
    "\n",
    "(1팀의 v최솟값 * 인원수)  +  (2팀의 v최솟값 * 인원수) 를 최대로 해야함.\n",
    "\n",
    "빠른 애들을 느려지게하는 건데, 최대한 덜 느려지게\n",
    "\n",
    "5 1명\n",
    "1 4명 9\n",
    "\n",
    "4 2명\n",
    "1 3명 11\n",
    "\n",
    "3 3명\n",
    "1 2명 11\n",
    "\n",
    "2 4명\n",
    "1 1명 9\n",
    "\n",
    "손실을 가장 적은 방향으로\n",
    "\n",
    "2개의 기준을 잡는다? 하나는 가장 느린 애 다른 하나는 적당한 애\n",
    "\n",
    "가장 느린 애의 속도로 맞추는 인원을 정하면 나머지는 알아서\n",
    "'''\n",
    "\n",
    "import math\n",
    "\n",
    "# 인원수 n, 상자수 k를 받는다\n",
    "n, k = map(int, input().split())\n",
    "\n",
    "# n명의 작업속도 받기\n",
    "v = list(map(int, input().split()))\n",
    "v.sort()\n",
    "\n",
    "\n",
    "maxi = 0\n",
    "# v[0]의 속도에 맞출 인원?\n",
    "# n만큼 반복해서\n",
    "for i in range(1, n):\n",
    "    # v[0]와 같은팀으로 할 인원 정해서 -> i 명\n",
    "    # 총 작업속도 계산\n",
    "    total_v = i * v[0] + (n-i) * v[i]\n",
    "    # v 최대값 구하기\n",
    "    if maxi < total_v:\n",
    "        maxi = total_v\n",
    "    print(total_v)\n",
    "\n",
    "print(math.ceil(k / maxi))"
   ]
  },
  {
   "cell_type": "code",
   "execution_count": 48,
   "id": "advisory-eleven",
   "metadata": {},
   "outputs": [
    {
     "data": {
      "text/plain": [
       "1"
      ]
     },
     "execution_count": 48,
     "metadata": {},
     "output_type": "execute_result"
    }
   ],
   "source": [
    "import math\n",
    "\n",
    "math.ceil(1/999999999999999999999999999999999999999999999999999999999999999999999)"
   ]
  },
  {
   "cell_type": "code",
   "execution_count": null,
   "id": "olive-prompt",
   "metadata": {},
   "outputs": [],
   "source": [
    "'''\n",
    "너무 느려서 방해되는 애 열외시키는 게 관건일 거 같은데 일단 O(N^2)은 안되니...\n",
    "'''\n",
    "pass"
   ]
  }
 ],
 "metadata": {
  "kernelspec": {
   "display_name": "Python 3",
   "language": "python",
   "name": "python3"
  },
  "language_info": {
   "codemirror_mode": {
    "name": "ipython",
    "version": 3
   },
   "file_extension": ".py",
   "mimetype": "text/x-python",
   "name": "python",
   "nbconvert_exporter": "python",
   "pygments_lexer": "ipython3",
   "version": "3.8.8"
  }
 },
 "nbformat": 4,
 "nbformat_minor": 5
}
