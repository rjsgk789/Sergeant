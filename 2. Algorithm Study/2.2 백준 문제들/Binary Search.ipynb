{
 "cells": [
  {
   "cell_type": "code",
   "execution_count": 2,
   "metadata": {},
   "outputs": [],
   "source": [
    "'''\n",
    "https://www.acmicpc.net/problemset?sort=ac_desc&algo=12\n",
    "'''\n",
    "pass"
   ]
  },
  {
   "cell_type": "code",
   "execution_count": 4,
   "metadata": {},
   "outputs": [
    {
     "name": "stdout",
     "output_type": "stream",
     "text": [
      "5\n",
      "4 1 5 2 3\n",
      "5\n",
      "1 3 7 9 5\n",
      "1\n",
      "1\n",
      "0\n",
      "0\n",
      "1\n"
     ]
    }
   ],
   "source": [
    "# 1920번 수 찾기\n",
    "'''\n",
    "N개의 정수 A[1] ... A[N] 안에 X라는 정수가 있는지?\n",
    "\n",
    "'''\n",
    "\n",
    "## binary_search 함수 (리스트, 숫자 입력받기)\n",
    "def binary_search(array, num):\n",
    "    # start, end,설정 (인덱스임)\n",
    "    start = 0\n",
    "    end = len(array)-1\n",
    "    \n",
    "    # 시작과 끝이 엇갈릴때까지 계속 반복\n",
    "    while(start <= end):\n",
    "        # mid 설정\n",
    "        mid = (start + end) // 2\n",
    "        # array[mid] == num이면 return 1\n",
    "        if array[mid] == num:\n",
    "            return 1\n",
    "        # mid보다 num이 작으면 아래 탐색\n",
    "        elif array[mid] > num:\n",
    "            end = mid - 1\n",
    "        # mid보다 num이 크면 위 탐색\n",
    "        else:\n",
    "            start = mid + 1\n",
    "    \n",
    "    return 0\n",
    "\n",
    "# n을 입력받는다\n",
    "n = int(input())\n",
    "# n개의 숫자 리스트를 입력받는다\n",
    "array = list(map(int, input().split()))\n",
    "# sort한다\n",
    "array.sort()\n",
    "\n",
    "# m을 입력받는다\n",
    "m = int(input())\n",
    "# m개의 숫자 리스트를 입력받는다\n",
    "nums = list(map(int, input().split()))\n",
    "# m개의 숫자들이 각각 n개의 숫자리스트 안에 들어가있는지 파악한다.\n",
    "\n",
    "# m개의 리스트 안에서 반복\n",
    "for num in nums:\n",
    "    # binary_search로 있는지 없는지 파악\n",
    "    answer = binary_search(array, num)\n",
    "    # 출력\n",
    "    print(answer)"
   ]
  }
 ],
 "metadata": {
  "kernelspec": {
   "display_name": "Python 3",
   "language": "python",
   "name": "python3"
  },
  "language_info": {
   "codemirror_mode": {
    "name": "ipython",
    "version": 3
   },
   "file_extension": ".py",
   "mimetype": "text/x-python",
   "name": "python",
   "nbconvert_exporter": "python",
   "pygments_lexer": "ipython3",
   "version": "3.8.5"
  }
 },
 "nbformat": 4,
 "nbformat_minor": 5
}
