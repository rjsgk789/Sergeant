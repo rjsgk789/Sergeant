{
 "cells": [
  {
   "cell_type": "code",
   "execution_count": 1,
   "id": "12e7326b",
   "metadata": {},
   "outputs": [
    {
     "name": "stdout",
     "output_type": "stream",
     "text": [
      "5\n",
      "1 1\n",
      "2\n",
      "2 3\n",
      "5\n",
      "3 4\n",
      "7\n",
      "9 8\n",
      "17\n",
      "5 2\n",
      "7\n"
     ]
    }
   ],
   "source": [
    "# 15950번 A+B - 3\n",
    "\n",
    "n = int(input())\n",
    "\n",
    "for _ in range(n):\n",
    "    a, b = map(int, input().split())\n",
    "    print(a+b)"
   ]
  },
  {
   "cell_type": "code",
   "execution_count": 2,
   "id": "ecaf3e68",
   "metadata": {},
   "outputs": [
    {
     "name": "stdout",
     "output_type": "stream",
     "text": [
      "3\n",
      "6\n"
     ]
    }
   ],
   "source": [
    "# 8393번 합\n",
    "\n",
    "n = int(input())\n",
    "\n",
    "summ = 0\n",
    "for i in range(1, n+1):\n",
    "    summ += i\n",
    "\n",
    "print(summ)"
   ]
  },
  {
   "cell_type": "code",
   "execution_count": 9,
   "id": "937f091a",
   "metadata": {},
   "outputs": [],
   "source": [
    "# 15552번 빠른 A+B\n",
    "\n",
    "# import sys\n",
    "\n",
    "# n = int(sys.stdin.readline())\n",
    "\n",
    "# for _ in range(n):\n",
    "#     a, b = map(int, sys.stdin.readline().split())\n",
    "#     print(a+b)\n",
    "\n",
    "# Jupyter Notebook에선 sys.stdin.readline()이 제대로 실행되지 않음\n",
    "pass"
   ]
  },
  {
   "cell_type": "code",
   "execution_count": 10,
   "id": "ae5c0741",
   "metadata": {},
   "outputs": [
    {
     "name": "stdout",
     "output_type": "stream",
     "text": [
      "5\n",
      "1\n",
      "2\n",
      "3\n",
      "4\n",
      "5\n"
     ]
    }
   ],
   "source": [
    "# 2741번 N 찍기\n",
    "\n",
    "n = int(input())\n",
    "\n",
    "for i in range(1, n+1):\n",
    "    print(i)"
   ]
  },
  {
   "cell_type": "code",
   "execution_count": 11,
   "id": "14f53e5a",
   "metadata": {},
   "outputs": [
    {
     "name": "stdout",
     "output_type": "stream",
     "text": [
      "5\n",
      "5\n",
      "4\n",
      "3\n",
      "2\n",
      "1\n"
     ]
    }
   ],
   "source": [
    "# 2742번 기찍 N\n",
    "\n",
    "n = int(input())\n",
    "\n",
    "for i in range(n, 0, -1):\n",
    "    print(i)"
   ]
  },
  {
   "cell_type": "code",
   "execution_count": 12,
   "id": "a952d090",
   "metadata": {},
   "outputs": [
    {
     "name": "stdout",
     "output_type": "stream",
     "text": [
      "5\n",
      "1 1\n",
      "Case #1: 2\n",
      "2 3\n",
      "Case #2: 5\n",
      "3 4\n",
      "Case #3: 7\n",
      "9 8\n",
      "Case #4: 17\n",
      "5 2\n",
      "Case #5: 7\n"
     ]
    }
   ],
   "source": [
    "# 11021번 A+B - 7\n",
    "\n",
    "n = int(input())\n",
    "\n",
    "for i in range(1, n+1):\n",
    "    a, b = map(int, input().split())\n",
    "    \n",
    "    print('Case #' + str(i) + ':', a+b)"
   ]
  },
  {
   "cell_type": "code",
   "execution_count": 13,
   "id": "3c6de8a5",
   "metadata": {},
   "outputs": [
    {
     "name": "stdout",
     "output_type": "stream",
     "text": [
      "5\n",
      "1 1\n",
      "Case #1: 1 + 1 = 2\n",
      "2 2\n",
      "Case #2: 2 + 2 = 4\n",
      "3 3\n",
      "Case #3: 3 + 3 = 6\n",
      "4 4\n",
      "Case #4: 4 + 4 = 8\n",
      "5 5\n",
      "Case #5: 5 + 5 = 10\n"
     ]
    }
   ],
   "source": [
    "# 11022번 A+B - 8\n",
    "\n",
    "n = int(input())\n",
    "\n",
    "for i in range(1, n+1):\n",
    "    a, b = map(int, input().split())\n",
    "    \n",
    "    print('Case #' + str(i) + ':', a, '+', b, '=', a+b)"
   ]
  },
  {
   "cell_type": "code",
   "execution_count": 1,
   "id": "64954373",
   "metadata": {},
   "outputs": [
    {
     "name": "stdout",
     "output_type": "stream",
     "text": [
      "5\n",
      "*\n",
      "**\n",
      "***\n",
      "****\n",
      "*****\n"
     ]
    }
   ],
   "source": [
    "# 2438번 별 찍기 - 1\n",
    "\n",
    "n = int(input())\n",
    "\n",
    "for i in range(1, n+1):\n",
    "    print('*' * i)"
   ]
  },
  {
   "cell_type": "code",
   "execution_count": 4,
   "id": "32d4ddde",
   "metadata": {},
   "outputs": [
    {
     "name": "stdout",
     "output_type": "stream",
     "text": [
      "7\n",
      "      *\n",
      "     **\n",
      "    ***\n",
      "   ****\n",
      "  *****\n",
      " ******\n",
      "*******\n"
     ]
    }
   ],
   "source": [
    "# 2439번 별 찍기 - 2\n",
    "\n",
    "n = int(input())\n",
    "\n",
    "for i in range(1, n+1):\n",
    "    print(' '*(n-i) + '*'*i)"
   ]
  },
  {
   "cell_type": "code",
   "execution_count": 5,
   "id": "92358b66",
   "metadata": {},
   "outputs": [
    {
     "name": "stdout",
     "output_type": "stream",
     "text": [
      "10 5\n",
      "1 10 4 9 2 3 8 5 7 6\n",
      "1\n",
      "4\n",
      "2\n",
      "3\n"
     ]
    }
   ],
   "source": [
    "# 10871번 X보다 작은 수\n",
    "\n",
    "n, x = map(int, input().split())\n",
    "nums = list(map(int, input().split()))\n",
    "\n",
    "for num in nums:\n",
    "    if num < x:\n",
    "        print(num, end=' ')"
   ]
  },
  {
   "cell_type": "code",
   "execution_count": 6,
   "id": "9dabafed",
   "metadata": {},
   "outputs": [
    {
     "name": "stdout",
     "output_type": "stream",
     "text": [
      "1 1\n",
      "2\n",
      "2 3\n",
      "5\n",
      "3 4\n",
      "7\n",
      "0 0\n"
     ]
    }
   ],
   "source": [
    "# 10952번 A+B - 5\n",
    "\n",
    "while(True):\n",
    "    a, b = map(int, input().split())\n",
    "    if a==0 and b==0:\n",
    "        break\n",
    "    \n",
    "    print(a+b)"
   ]
  },
  {
   "cell_type": "code",
   "execution_count": 7,
   "id": "858587d6",
   "metadata": {
    "scrolled": true
   },
   "outputs": [
    {
     "name": "stdout",
     "output_type": "stream",
     "text": [
      "5\n",
      "1 1\n",
      "2\n",
      "2 3\n",
      "5\n",
      "3 3\n",
      "6\n",
      "4 4\n",
      "8\n",
      "5 5\n",
      "10\n"
     ]
    }
   ],
   "source": [
    "# 10951번 A+B - 4\n",
    "\n",
    "while(True):\n",
    "    try:\n",
    "        a, b = map(int, input().split())\n",
    "        print(a+b)\n",
    "    except:\n",
    "        break"
   ]
  },
  {
   "cell_type": "code",
   "execution_count": 5,
   "id": "a65e3f0d",
   "metadata": {},
   "outputs": [
    {
     "name": "stdout",
     "output_type": "stream",
     "text": [
      "0\n",
      "1\n"
     ]
    }
   ],
   "source": [
    "# 1110번 더하기 사이클\n",
    "\n",
    "num = int(input())\n",
    "\n",
    "if num<10:\n",
    "    num *= 10\n",
    "\n",
    "first = num\n",
    "\n",
    "count = 0\n",
    "while(True):\n",
    "    num = (num//10 + (num%10)) % 10 + (num % 10) * 10\n",
    "    count += 1\n",
    "    if num == first:\n",
    "        break\n",
    "\n",
    "print(count)"
   ]
  },
  {
   "cell_type": "code",
   "execution_count": 7,
   "id": "7b61662c",
   "metadata": {},
   "outputs": [
    {
     "name": "stdout",
     "output_type": "stream",
     "text": [
      "5\n",
      "20 10 35 30 7\n",
      "35\n"
     ]
    }
   ],
   "source": [
    "# 10818번 최소, 최대\n",
    "\n",
    "n = int(input())\n",
    "nums = list(map(int, input().split()))\n",
    "\n",
    "print(min(nums), max(nums))"
   ]
  },
  {
   "cell_type": "code",
   "execution_count": 8,
   "id": "2ce79dcf",
   "metadata": {},
   "outputs": [
    {
     "name": "stdout",
     "output_type": "stream",
     "text": [
      "3\n",
      "29\n",
      "38\n",
      "12\n",
      "57\n",
      "74\n",
      "40\n",
      "85\n",
      "61\n",
      "85\n",
      "8\n"
     ]
    }
   ],
   "source": [
    "# 2562번 최댓값\n",
    "\n",
    "maxi = 0\n",
    "for i in range(1, 10):\n",
    "    num = int(input())\n",
    "    if num > maxi:\n",
    "        maxi = num\n",
    "        idx = i\n",
    "\n",
    "print(maxi)\n",
    "print(idx)"
   ]
  },
  {
   "cell_type": "code",
   "execution_count": 11,
   "id": "d3435830",
   "metadata": {},
   "outputs": [
    {
     "name": "stdout",
     "output_type": "stream",
     "text": [
      "150\n",
      "266\n",
      "427\n",
      "3\n",
      "1\n",
      "0\n",
      "2\n",
      "0\n",
      "0\n",
      "0\n",
      "2\n",
      "0\n",
      "0\n"
     ]
    }
   ],
   "source": [
    "# 2577번 숫자의 개수\n",
    "\n",
    "a = int(input())\n",
    "b = int(input())\n",
    "c = int(input())\n",
    "\n",
    "counts = [0] * 10\n",
    "\n",
    "multi = a * b * c\n",
    "\n",
    "while(True):\n",
    "    counts[multi%10] += 1\n",
    "    multi //= 10\n",
    "    if multi == 0:\n",
    "        break\n",
    "\n",
    "for count in counts:\n",
    "    print(count)"
   ]
  },
  {
   "cell_type": "code",
   "execution_count": 12,
   "id": "cc3068ed",
   "metadata": {
    "scrolled": true
   },
   "outputs": [
    {
     "name": "stdout",
     "output_type": "stream",
     "text": [
      "1\n",
      "2\n",
      "3\n",
      "4\n",
      "5\n",
      "6\n",
      "7\n",
      "8\n",
      "9\n",
      "10\n",
      "10\n"
     ]
    }
   ],
   "source": [
    "# 3052번 나머지\n",
    "\n",
    "counts = [0] * 42\n",
    "\n",
    "for _ in range(10):\n",
    "    rem = int(input()) % 42\n",
    "    counts[rem] = 1\n",
    "\n",
    "print(sum(counts))"
   ]
  },
  {
   "cell_type": "code",
   "execution_count": 18,
   "id": "5cf6645d",
   "metadata": {},
   "outputs": [
    {
     "name": "stdout",
     "output_type": "stream",
     "text": [
      "3\n",
      "40 80 60\n",
      "75.0\n"
     ]
    }
   ],
   "source": [
    "# 1546번 평균\n",
    "\n",
    "n = int(input())\n",
    "scores = list(map(int, input().split()))\n",
    "maxi = max(scores)\n",
    "\n",
    "summ = 0\n",
    "for score in scores:\n",
    "    summ += 100*score/maxi\n",
    "\n",
    "print(summ / n)"
   ]
  },
  {
   "cell_type": "code",
   "execution_count": 19,
   "id": "bf452bda",
   "metadata": {},
   "outputs": [
    {
     "name": "stdout",
     "output_type": "stream",
     "text": [
      "5\n",
      "OOXXOXXOOO\n",
      "10\n",
      "OOXXOOXXOO\n",
      "9\n",
      "OXOXOXOXOXOXOX\n",
      "7\n",
      "OOOOOOOOOO\n",
      "55\n",
      "OOOOXOOOOXOOOOX\n",
      "30\n"
     ]
    }
   ],
   "source": [
    "# 8958번 OX퀴즈\n",
    "n = int(input())\n",
    "\n",
    "for _ in range(n):\n",
    "    ox = input()\n",
    "    score = 0\n",
    "    count = 0\n",
    "    for char in ox:\n",
    "        if char=='O':\n",
    "            count += 1\n",
    "            score += count\n",
    "        else:\n",
    "            count = 0\n",
    "    print(score)"
   ]
  },
  {
   "cell_type": "code",
   "execution_count": 41,
   "id": "91a6c3a5",
   "metadata": {
    "scrolled": true
   },
   "outputs": [
    {
     "name": "stdout",
     "output_type": "stream",
     "text": [
      "1\n",
      "5 50 50 70 80 100\n",
      "40.000%\n"
     ]
    }
   ],
   "source": [
    "# 4344번 평균은 넘겠지\n",
    "\n",
    "n = int(input())\n",
    "\n",
    "for _ in range(n):\n",
    "    scores = list(map(int, input().split()))\n",
    "    length = scores[0]\n",
    "    scores = scores[1:]\n",
    "    average = sum(scores) / length\n",
    "    count = 0\n",
    "    for score in scores:\n",
    "        if score > average:\n",
    "            count += 1\n",
    "    \n",
    "    answer = format(100.0 * count / length, \".3f\")\n",
    "    #print( str(round( 100.0 * count / length, 3 )) + '%' )\n",
    "    print(str(answer) + '%')"
   ]
  },
  {
   "cell_type": "code",
   "execution_count": 37,
   "id": "8954bc9d",
   "metadata": {},
   "outputs": [
    {
     "name": "stdout",
     "output_type": "stream",
     "text": [
      "100.0\n"
     ]
    }
   ],
   "source": [
    "a = round(100.000, 3)\n",
    "print(a)"
   ]
  },
  {
   "cell_type": "code",
   "execution_count": null,
   "id": "05796362",
   "metadata": {},
   "outputs": [],
   "source": []
  }
 ],
 "metadata": {
  "kernelspec": {
   "display_name": "Python 3",
   "language": "python",
   "name": "python3"
  },
  "language_info": {
   "codemirror_mode": {
    "name": "ipython",
    "version": 3
   },
   "file_extension": ".py",
   "mimetype": "text/x-python",
   "name": "python",
   "nbconvert_exporter": "python",
   "pygments_lexer": "ipython3",
   "version": "3.8.8"
  }
 },
 "nbformat": 4,
 "nbformat_minor": 5
}
