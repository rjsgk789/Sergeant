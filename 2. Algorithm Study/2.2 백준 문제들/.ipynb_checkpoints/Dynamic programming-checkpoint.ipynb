{
 "cells": [
  {
   "cell_type": "code",
   "execution_count": null,
   "id": "freelance-sharing",
   "metadata": {},
   "outputs": [],
   "source": [
    "'''\n",
    "https://www.acmicpc.net/problemset?sort=ac_desc&algo=25\n",
    "'''"
   ]
  },
  {
   "cell_type": "code",
   "execution_count": 5,
   "id": "encouraging-bristol",
   "metadata": {},
   "outputs": [
    {
     "name": "stdout",
     "output_type": "stream",
     "text": [
      "10\n",
      "3\n"
     ]
    }
   ],
   "source": [
    "# 1463번 1로 만들기\n",
    "'''\n",
    "3으로 나누어 떨어지면 3으로 나눈다\n",
    "2\n",
    "1을 뺀다\n",
    "\n",
    "3개의 연산 가능\n",
    "연산 최소화.\n",
    "\n",
    "'''\n",
    "\n",
    "# n 입력받기\n",
    "n = int(input())\n",
    "\n",
    "dp = [100001] * (n+1)\n",
    "dp[1] = 0\n",
    "\n",
    "# 2~n까지 반복\n",
    "for i in range(2, n+1):\n",
    "    dp[i] = dp[i-1] + 1\n",
    "    # 3으로 나눠지면 dp[i//3]+1\n",
    "    if i%3 == 0:\n",
    "        dp[i] = min(dp[i], dp[i//3]+1)\n",
    "    # 2로 나눠지면 dp[i//2]+1\n",
    "    if i%2 == 0:\n",
    "        dp[i] = min(dp[i], dp[i//2]+1)\n",
    "    # 아니면 dp[i-1]+1 중에서 최소\n",
    "\n",
    "print(dp[n])"
   ]
  },
  {
   "cell_type": "code",
   "execution_count": 15,
   "id": "moderate-victim",
   "metadata": {},
   "outputs": [
    {
     "name": "stdout",
     "output_type": "stream",
     "text": [
      "3\n",
      "4\n",
      "7\n",
      "10\n",
      "7\n",
      "44\n",
      "274\n"
     ]
    }
   ],
   "source": [
    "# 9095번 1, 2, 3 더하기\n",
    "'''\n",
    "1, 2, 3 의 합으로 각 숫자를 나타내는 경우의수\n",
    "\n",
    "1 -> 1\n",
    "2 -> 1의 경우의수+1, 2\n",
    "3 -> 1의 경우의수+2, 2의 경우의수+1, 3\n",
    "4 -> 1의 경우의수+3, 2의 경우의수+2, 3의 경우의수+1\n",
    "...\n",
    "'''\n",
    "\n",
    "# tastCase의 개수 t 입력받고\n",
    "t = int(input())\n",
    "\n",
    "nums = []\n",
    "# n들을 입력받아\n",
    "for i in range(t):\n",
    "    nums.append(int(input()))\n",
    "\n",
    "dp = [0, 1, 2, 4]\n",
    "\n",
    "# 4부터 n까지 반복\n",
    "for i in range(4, 12):\n",
    "    # dp[i] = dp[i-3] + dp[i-2] + dp[i-1]\n",
    "    dp.append(sum(dp[i-3: i]))\n",
    "\n",
    "for i in range(t):\n",
    "    print(dp[nums[i]])"
   ]
  },
  {
   "cell_type": "code",
   "execution_count": 37,
   "id": "committed-boundary",
   "metadata": {},
   "outputs": [
    {
     "name": "stdout",
     "output_type": "stream",
     "text": [
      "5\n",
      "1\n",
      "0 1\n",
      "2\n",
      "1 1\n",
      "3\n",
      "1 2\n",
      "4\n",
      "2 3\n",
      "5\n",
      "3 5\n"
     ]
    }
   ],
   "source": [
    "# 1003번 피보나치 함수\n",
    "'''\n",
    "0 -> 0\n",
    "1 -> 1\n",
    "2 -> 0(1) 1(1)\n",
    "3 -> 2(1) 1(1)\n",
    "'''\n",
    "\n",
    "t = int(input())\n",
    "\n",
    "# 0과 1을 동시에 더해가는 dp를 만들자\n",
    "dp = [[0] * 41 for _ in range(2)]\n",
    "\n",
    "dp[0][0], dp[1][0] = 1, 0\n",
    "dp[0][1], dp[1][1] = 0, 1\n",
    "for i in range(2, 41):\n",
    "    dp[0][i], dp[1][i] = dp[0][i-2]+dp[0][i-1], dp[1][i-2]+dp[1][i-1]\n",
    "\n",
    "answer = []\n",
    "for i in range(t):\n",
    "    num = int(input())\n",
    "    print(dp[0][num], dp[1][num])"
   ]
  },
  {
   "cell_type": "code",
   "execution_count": 4,
   "id": "coupled-technician",
   "metadata": {},
   "outputs": [
    {
     "name": "stdout",
     "output_type": "stream",
     "text": [
      "2\n",
      "2\n"
     ]
    }
   ],
   "source": [
    "# 11726번 2*n 타일링\n",
    "'''\n",
    "2*n 크기의 직사각형 -> 1x2랑 2x1 직사각형으로 채우기\n",
    "\n",
    "1 -> 2X1 하나\n",
    "2 -> 전꺼 + 2X1 or 1X2 2개\n",
    "3 -> 전꺼 + 2X1 or 2전꺼 + 1X2 2개\n",
    "'''\n",
    "\n",
    "n = int(input())\n",
    "\n",
    "dp = [0] * max(3, (n+1))\n",
    "dp[1] = 1\n",
    "dp[2] = 2 # n=1일 때 오류남!!!!!!!!!!!!!!!\n",
    "\n",
    "for i in range(3, n+1):\n",
    "    dp[i] = (dp[i-2] + dp[i-1]) % 10007\n",
    "\n",
    "print(dp[n]%10007)"
   ]
  },
  {
   "cell_type": "code",
   "execution_count": null,
   "id": "forty-browser",
   "metadata": {},
   "outputs": [],
   "source": []
  }
 ],
 "metadata": {
  "kernelspec": {
   "display_name": "Python 3",
   "language": "python",
   "name": "python3"
  },
  "language_info": {
   "codemirror_mode": {
    "name": "ipython",
    "version": 3
   },
   "file_extension": ".py",
   "mimetype": "text/x-python",
   "name": "python",
   "nbconvert_exporter": "python",
   "pygments_lexer": "ipython3",
   "version": "3.8.8"
  }
 },
 "nbformat": 4,
 "nbformat_minor": 5
}
