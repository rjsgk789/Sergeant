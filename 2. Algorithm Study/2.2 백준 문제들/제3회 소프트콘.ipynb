{
 "cells": [
  {
   "cell_type": "code",
   "execution_count": 14,
   "metadata": {},
   "outputs": [
    {
     "name": "stdout",
     "output_type": "stream",
     "text": [
      "0\n",
      "-1\n"
     ]
    }
   ],
   "source": [
    "# 제3회 소프트콘 A. 점프 숨바꼭질\n",
    "'''\n",
    "1\n",
    "3 -1\n",
    "7 -1 3 -5\n",
    "15 -1 7 -9 11 -5 3 -13\n",
    "\n",
    "'''\n",
    "pass"
   ]
  },
  {
   "cell_type": "code",
   "execution_count": 66,
   "metadata": {},
   "outputs": [
    {
     "name": "stdout",
     "output_type": "stream",
     "text": [
      "3\n",
      "2\n"
     ]
    }
   ],
   "source": [
    "import math\n",
    "\n",
    "\n",
    "def binary_search(target, start, end):\n",
    "    while(start <= end):\n",
    "        mid = (start+end) // 2\n",
    "\n",
    "        now = math.pow(2, mid)-1\n",
    "        if now == target:\n",
    "            return mid\n",
    "        elif now >= target:\n",
    "            answer = mid\n",
    "            end = mid-1\n",
    "        else:\n",
    "            start = mid+1\n",
    "        \n",
    "    \n",
    "    return answer\n",
    "\n",
    "target = int(input())\n",
    "\n",
    "if target < 0:\n",
    "    target = -target\n",
    "\n",
    "if target == 0:\n",
    "    print(0)\n",
    "elif target%2 == 0:\n",
    "    print(-1)\n",
    "else:\n",
    "    answer = binary_search(target, 0, 100)\n",
    "    print(answer)"
   ]
  }
 ],
 "metadata": {
  "kernelspec": {
   "display_name": "Python 3",
   "language": "python",
   "name": "python3"
  },
  "language_info": {
   "codemirror_mode": {
    "name": "ipython",
    "version": 3
   },
   "file_extension": ".py",
   "mimetype": "text/x-python",
   "name": "python",
   "nbconvert_exporter": "python",
   "pygments_lexer": "ipython3",
   "version": "3.8.5"
  }
 },
 "nbformat": 4,
 "nbformat_minor": 4
}
