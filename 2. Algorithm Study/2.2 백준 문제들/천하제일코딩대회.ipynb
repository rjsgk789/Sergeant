{
 "cells": [
  {
   "cell_type": "code",
   "execution_count": 24,
   "id": "posted-homework",
   "metadata": {},
   "outputs": [
    {
     "name": "stdout",
     "output_type": "stream",
     "text": [
      "10\n",
      "4 5 6 7 8 10 9 8 7 8\n",
      "5 1\n",
      "6 2\n",
      "7 3\n",
      "8 4\n",
      "NO\n"
     ]
    }
   ],
   "source": [
    "'''\n",
    "정렬해야하는 수열의 길이 N이 주어진다\n",
    "\n",
    "수열의 원소들을 나타내는 N개의 정수가 주어진다 (A1, A2, ... An) - 공백 구분\n",
    "\n",
    "3번의 연산 안에 수열을 오름차순으로 정렬할 수 있으면\n",
    "    YES 출력\n",
    "    방법 출력(연산횟수 K출력, 적용할 연산을 순서대로 출력 - i와 X 출력)\n",
    "'''\n",
    "\n",
    "\n",
    "# n 입력받기\n",
    "n = int(input())\n",
    "# 수열 입력받기 (nums)\n",
    "nums = list(map(int, input().split()))\n",
    "\n",
    "count = 0\n",
    "answer = []\n",
    "\n",
    "# index 0일 때\n",
    "if nums[0] <= nums[1]:\n",
    "    pass\n",
    "else:\n",
    "    count += 1\n",
    "    nums[0] = nums[1]\n",
    "    answer.append([1, nums[1]])\n",
    "\n",
    "# index 1 ~ n-2일 때\n",
    "# 수열 안의 인덱스만큼 반복 (i)\n",
    "for i in range(1, len(nums)-1):\n",
    "    # nums[i]와 nums[i+1] 비교\n",
    "    if nums[i] <= nums[i+1]:\n",
    "    # 후자가 더 크면 pass\n",
    "        pass\n",
    "    # 전자가 더 크면\n",
    "    else:\n",
    "        count += 1\n",
    "        if count >=4:\n",
    "            break\n",
    "        # 앞까지 다 정렬이 되어있으므로 i-1번 < i+1번이면 i+1번째로 통일\n",
    "        # 아니면 더 작은 쪽으로 통일\n",
    "        if nums[i-1] <= nums[i+1]:\n",
    "            nums[i] = nums[i+1]\n",
    "            answer.append([i+1, nums[i+1]])\n",
    "        else:\n",
    "            nums[i+1] = nums[i]\n",
    "            answer.append([i+2, nums[i]])\n",
    "\n",
    "if count >= 4:\n",
    "    print('NO')\n",
    "else:\n",
    "    print('YES')\n",
    "    print(count)\n",
    "    for i in answer:\n",
    "        print(i[0], i[1])"
   ]
  },
  {
   "cell_type": "code",
   "execution_count": 19,
   "id": "fitting-welcome",
   "metadata": {},
   "outputs": [
    {
     "name": "stdout",
     "output_type": "stream",
     "text": [
      "2 1 2\n",
      "1\n",
      "2\n",
      "2\n",
      "4\n",
      "18 18 "
     ]
    }
   ],
   "source": [
    "def conv1d(A, B):\n",
    "    return sum(A * B)\n",
    "    \n",
    "\n",
    "\n",
    "\n",
    "from itertools import product\n",
    "import numpy as np\n",
    "\n",
    "n, k, x = map(int, input().split())\n",
    "\n",
    "answer = 0\n",
    "for i in product(range(1, x+1), repeat = 2*k):\n",
    "    a = i[:k]\n",
    "    b = i[k:]\n",
    "    newA = np.array(a)\n",
    "    newB = np.array(b)\n",
    "    \n",
    "    after = conv1d(newA, newB)\n",
    "    print(after)\n",
    "    answer += after\n",
    "\n",
    "answer *= pow(x, n-k)\n",
    "\n",
    "for i in range(n-k+1):\n",
    "    print(answer, end=' ')\n"
   ]
  },
  {
   "cell_type": "code",
   "execution_count": 22,
   "id": "pregnant-footwear",
   "metadata": {},
   "outputs": [
    {
     "name": "stdout",
     "output_type": "stream",
     "text": [
      "3\n",
      "AB 1\n",
      "BC 2\n",
      "CD 3\n",
      "[['AB', '1'], ['BC', '2'], ['CD', '3']]\n",
      "1\n",
      "2\n",
      "3\n",
      "0\n"
     ]
    }
   ],
   "source": [
    "'''\n",
    "제목과 난이도 주어짐\n",
    "\n",
    "문제 개수 n\n",
    "'''\n",
    "\n",
    "n = int(input())\n",
    "\n",
    "l = []\n",
    "for _ in range(n):\n",
    "    l.append(list(input().split()))\n",
    "\n",
    "mini = 10000\n",
    "mini_idx = 0\n",
    "\n",
    "for i in range(len(l)):\n",
    "    if int(l[i][1]) < mini:\n",
    "        mini = int(l[i][1])\n",
    "        mini_idx = i\n",
    "        \n",
    "print(l[mini_idx][0])"
   ]
  },
  {
   "cell_type": "code",
   "execution_count": null,
   "id": "accessory-shanghai",
   "metadata": {},
   "outputs": [],
   "source": []
  }
 ],
 "metadata": {
  "kernelspec": {
   "display_name": "Python 3",
   "language": "python",
   "name": "python3"
  },
  "language_info": {
   "codemirror_mode": {
    "name": "ipython",
    "version": 3
   },
   "file_extension": ".py",
   "mimetype": "text/x-python",
   "name": "python",
   "nbconvert_exporter": "python",
   "pygments_lexer": "ipython3",
   "version": "3.8.8"
  }
 },
 "nbformat": 4,
 "nbformat_minor": 5
}
