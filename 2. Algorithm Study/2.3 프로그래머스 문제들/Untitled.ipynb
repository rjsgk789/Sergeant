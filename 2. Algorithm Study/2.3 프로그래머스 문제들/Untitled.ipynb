{
 "cells": [
  {
   "cell_type": "code",
   "execution_count": 2,
   "id": "2a3d1c23",
   "metadata": {},
   "outputs": [
    {
     "name": "stdout",
     "output_type": "stream",
     "text": [
      "['3', '30', '34', '5', '9']\n"
     ]
    }
   ],
   "source": [
    "nums = ['3', '30', '34', '5', '9']\n",
    "nums2 = [3, 30, 34, 5, 9]\n",
    "nums.sort()\n",
    "\n",
    "print(nums)"
   ]
  },
  {
   "cell_type": "code",
   "execution_count": null,
   "id": "d0a34c33",
   "metadata": {},
   "outputs": [],
   "source": [
    "# 가장 큰 수\n",
    "'''\n",
    "정수 배열 -> 숫자 이어 쓴 것중 가장 큰 수 찾기\n",
    "\n",
    "완전 탐색 X\n",
    "\n",
    "무조건 앞의 숫자가 더 커야함\n",
    "\n",
    "\n",
    "6 10 2\n",
    "\n",
    "\n",
    "'''"
   ]
  }
 ],
 "metadata": {
  "kernelspec": {
   "display_name": "Python 3 (ipykernel)",
   "language": "python",
   "name": "python3"
  },
  "language_info": {
   "codemirror_mode": {
    "name": "ipython",
    "version": 3
   },
   "file_extension": ".py",
   "mimetype": "text/x-python",
   "name": "python",
   "nbconvert_exporter": "python",
   "pygments_lexer": "ipython3",
   "version": "3.8.11"
  }
 },
 "nbformat": 4,
 "nbformat_minor": 5
}
