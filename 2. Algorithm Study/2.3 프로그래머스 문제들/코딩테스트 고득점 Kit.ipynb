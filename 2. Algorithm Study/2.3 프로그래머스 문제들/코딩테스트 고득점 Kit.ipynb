{
 "cells": [
  {
   "cell_type": "code",
   "execution_count": 15,
   "id": "oriental-cannon",
   "metadata": {},
   "outputs": [
    {
     "name": "stdout",
     "output_type": "stream",
     "text": [
      "5 0\n"
     ]
    },
    {
     "data": {
      "text/plain": [
       "1"
      ]
     },
     "execution_count": 15,
     "metadata": {},
     "output_type": "execute_result"
    }
   ],
   "source": [
    "# 탐욕법 Level 2. 조이스틱\n",
    "'''\n",
    "위 / 아래 -> ascii코드값 +-\n",
    "왼 / 오 -> 문자의 index +-\n",
    "\n",
    "n자리 문자열\n",
    "\n",
    "index : 0, 1, ... n-1\n",
    "%n 적용하면 범위 안벗어남 (사실 안해도 됨 name[-1]하면 알아서 맨 뒤 문자 선택)\n",
    "\n",
    "ascii -> 65 ~ 90\n",
    "해당 ord 값 - 'A'의 ord 값\n",
    "'A'의 ord 값 + 26 - 해당 ord 값\n",
    "중에서 작은 값이 최소이동임\n",
    "\n",
    "'''\n",
    "\n",
    "def solution(name):\n",
    "    # 변수 설정\n",
    "    count_left, count_right = 0, 0\n",
    "    length = len(name)\n",
    "    \n",
    "    # A가 연속으로 많이 있는 반대로 커서를 이동해야함 - count_right, count_left로 하면 될듯\n",
    "    for i in range(length-1):\n",
    "        if name[i+1] == 'A':\n",
    "            count_right += 1\n",
    "        else:\n",
    "            break\n",
    "    \n",
    "    for i in range(length-1):    \n",
    "        if name[-i-1] == 'A':\n",
    "            count_left += 1\n",
    "        else:\n",
    "            break\n",
    "    \n",
    "    # count가 적은 쪽으로 이동하자.\n",
    "    \n",
    "    # right 이동 (count_left >= count_right)\n",
    "    # 오른쪽으로 이동하면서 총이동수 += min( ord(name[i]) - ord('A'),  ord('Z')+1 - ord(name[i]) )\n",
    "    # index가 -count_left-1 이 되면 멈추기\n",
    "    \n",
    "    # left 이동 (count_left < count_right)\n",
    "    # 왼쪽으로 이동하면서 총이동수 += min( ord(name[i]) - ord('A'),  ord('Z')+1 - ord(name[i]) )\n",
    "    # index가 count_right+1 이 되면 멈추기\n",
    "    \n",
    "    print(count_left, count_right)\n",
    "    \n",
    "    return 1\n",
    "\n",
    "# name을 받겠지\n",
    "solution('ABAAAAA')"
   ]
  },
  {
   "cell_type": "code",
   "execution_count": 8,
   "id": "proved-patrol",
   "metadata": {},
   "outputs": [
    {
     "data": {
      "text/plain": [
       "'A'"
      ]
     },
     "execution_count": 8,
     "metadata": {},
     "output_type": "execute_result"
    }
   ],
   "source": [
    "a = 'ABCD'\n",
    "a[-4]"
   ]
  }
 ],
 "metadata": {
  "kernelspec": {
   "display_name": "Python 3",
   "language": "python",
   "name": "python3"
  },
  "language_info": {
   "codemirror_mode": {
    "name": "ipython",
    "version": 3
   },
   "file_extension": ".py",
   "mimetype": "text/x-python",
   "name": "python",
   "nbconvert_exporter": "python",
   "pygments_lexer": "ipython3",
   "version": "3.8.8"
  }
 },
 "nbformat": 4,
 "nbformat_minor": 5
}
