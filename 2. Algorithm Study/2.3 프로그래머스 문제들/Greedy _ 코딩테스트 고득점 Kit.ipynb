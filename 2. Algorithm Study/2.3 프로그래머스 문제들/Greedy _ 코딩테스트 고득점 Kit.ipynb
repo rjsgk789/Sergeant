{
 "cells": [
  {
   "cell_type": "code",
   "execution_count": 34,
   "id": "oriental-cannon",
   "metadata": {},
   "outputs": [
    {
     "name": "stdout",
     "output_type": "stream",
     "text": [
      "0\n",
      "1\n",
      "0\n",
      "0\n",
      "0\n",
      "0\n",
      "0\n",
      "0\n",
      "0\n",
      "0\n",
      "0\n",
      "1\n",
      "1\n",
      "15\n"
     ]
    }
   ],
   "source": [
    "# 탐욕법 Level 2. 조이스틱\n",
    "'''\n",
    "위 / 아래 -> ascii코드값 +-\n",
    "왼 / 오 -> 문자의 index +-\n",
    "\n",
    "n자리 문자열\n",
    "\n",
    "index : 0, 1, ... n-1\n",
    "%n 적용하면 범위 안벗어남 (사실 안해도 됨 name[-1]하면 알아서 맨 뒤 문자 선택)\n",
    "\n",
    "ascii -> 65 ~ 90\n",
    "해당 ord 값 - 'A'의 ord 값\n",
    "'A'의 ord 값 + 26 - 해당 ord 값\n",
    "중에서 작은 값이 최소이동임\n",
    "\n",
    "'''\n",
    "\n",
    "def solution(name):\n",
    "    # 변수 설정\n",
    "    count_left, count_right = 0, 0\n",
    "    length = len(name)\n",
    "    total_move = 0\n",
    "    \n",
    "    # A가 연속으로 많이 있는 반대로 커서를 이동해야함 - count_right, count_left로 하면 될듯\n",
    "    for i in range(length-1):\n",
    "        if name[i+1] == 'A':\n",
    "            count_right += 1\n",
    "        else:\n",
    "            break\n",
    "    \n",
    "    for i in range(length-1):    \n",
    "        if name[-i-1] == 'A':\n",
    "            count_left += 1\n",
    "        else:\n",
    "            break\n",
    "    \n",
    "    # count가 적은 쪽으로 이동하자.\n",
    "    \n",
    "    # right 이동 (count_left >= count_right)\n",
    "    if count_left >= count_right:\n",
    "        # 오른쪽으로 이동하면서 총이동수 += min( ord(name[i]) - ord('A'),  ord('Z')+1 - ord(name[i]) )\n",
    "        idx = 0\n",
    "        while(True):\n",
    "            total_move += min( ord(name[idx]) - ord('A'),  ord('Z')+1 - ord(name[idx]) )\n",
    "            print(min( ord(name[idx]) - ord('A'),  ord('Z')+1 - ord(name[idx]) ))\n",
    "            idx += 1\n",
    "            if idx == length-count_left:\n",
    "                break\n",
    "            total_move += 1\n",
    "        # index가 length-count_left-1 이 되면 멈추기\n",
    "    \n",
    "    # left 이동 (count_left < count_right)\n",
    "    else:\n",
    "        # 왼쪽으로 이동하면서 총이동수 += min( ord(name[i]) - ord('A'),  ord('Z')+1 - ord(name[i]) )\n",
    "        idx = 0\n",
    "        while(True):\n",
    "            total_move += min( ord(name[idx]) - ord('A'),  ord('Z')+1 - ord(name[idx]) )\n",
    "            idx -= 1\n",
    "            if idx==-1:\n",
    "                idx += length\n",
    "            if idx == count_right:\n",
    "                break\n",
    "            total_move += 1\n",
    "        # index가 count_right+1 이 되면 멈추기\n",
    "    \n",
    "    return total_move\n",
    "\n",
    "# name을 받겠지\n",
    "print(solution('ABAAAAAAAAABB'))"
   ]
  },
  {
   "cell_type": "code",
   "execution_count": 33,
   "id": "hired-wallace",
   "metadata": {},
   "outputs": [],
   "source": [
    "'''\n",
    "왼쪽으로 이동할지 오른쪽으로 이동할지 원소교체를 할 때마다 해야함??\n",
    "+ 왼쪽먼저 or 오른쪽먼저의 기준이 완전탐색을 해야 가능할지도..??\n",
    "\n",
    "https://velog.io/@hsw0194/%ED%94%84%EB%A1%9C%EA%B7%B8%EB%9E%98%EB%A8%B8%EC%8A%A4-%EC%A1%B0%EC%9D%B4%EC%8A%A4%ED%8B%B1\n",
    "'''\n",
    "pass"
   ]
  },
  {
   "cell_type": "code",
   "execution_count": null,
   "id": "apparent-assurance",
   "metadata": {},
   "outputs": [],
   "source": [
    "# 탐욕법 Level 3. 큰 수 만들기"
   ]
  }
 ],
 "metadata": {
  "kernelspec": {
   "display_name": "Python 3",
   "language": "python",
   "name": "python3"
  },
  "language_info": {
   "codemirror_mode": {
    "name": "ipython",
    "version": 3
   },
   "file_extension": ".py",
   "mimetype": "text/x-python",
   "name": "python",
   "nbconvert_exporter": "python",
   "pygments_lexer": "ipython3",
   "version": "3.8.8"
  }
 },
 "nbformat": 4,
 "nbformat_minor": 5
}
