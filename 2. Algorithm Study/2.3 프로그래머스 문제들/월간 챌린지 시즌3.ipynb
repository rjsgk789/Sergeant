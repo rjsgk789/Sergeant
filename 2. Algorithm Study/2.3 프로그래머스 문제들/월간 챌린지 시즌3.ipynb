{
 "cells": [
  {
   "cell_type": "code",
   "execution_count": null,
   "id": "4548d6fb",
   "metadata": {},
   "outputs": [],
   "source": [
    "# 금과 은 운반하기\n",
    "'''\n",
    "\n",
    "이동\n",
    "도착 (시간 체크)\n",
    "이동\n",
    "출발 (시간 체크)\n",
    "\n",
    "\n",
    "\n",
    "'''\n",
    "\n"
   ]
  }
 ],
 "metadata": {
  "kernelspec": {
   "display_name": "Python 3 (ipykernel)",
   "language": "python",
   "name": "python3"
  },
  "language_info": {
   "codemirror_mode": {
    "name": "ipython",
    "version": 3
   },
   "file_extension": ".py",
   "mimetype": "text/x-python",
   "name": "python",
   "nbconvert_exporter": "python",
   "pygments_lexer": "ipython3",
   "version": "3.8.11"
  }
 },
 "nbformat": 4,
 "nbformat_minor": 5
}
