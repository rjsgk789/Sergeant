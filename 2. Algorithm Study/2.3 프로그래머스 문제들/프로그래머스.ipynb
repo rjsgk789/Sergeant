{
 "cells": [
  {
   "cell_type": "code",
   "execution_count": 2,
   "id": "toxic-russell",
   "metadata": {},
   "outputs": [],
   "source": [
    "# 8월 위클리 1주차\n",
    "# 부족한 금액 계산하기\n",
    "def solution(price, money, count):\n",
    "    answer = -1\n",
    "    \n",
    "    total = 0\n",
    "    for i in range(count):\n",
    "        total += (i+1) * price\n",
    "    \n",
    "    answer = max(total-money, 0)\n",
    "    \n",
    "    return answer"
   ]
  },
  {
   "cell_type": "code",
   "execution_count": null,
   "id": "focused-prayer",
   "metadata": {},
   "outputs": [],
   "source": [
    "# 8월 위클리 2주차\n",
    "# 상호 평가\n",
    "def solution(scores):\n",
    "    answer = ''\n",
    "    length = len(scores)\n",
    "    \n",
    "    for j in range(length):\n",
    "        exc = []\n",
    "        for i in range(length):\n",
    "            exc.append(scores[i][j])\n",
    "        \n",
    "        maxi = max(exc)\n",
    "        mini = min(exc)\n",
    "        if exc.count(maxi) == 1 and exc.index(maxi) == j:\n",
    "            scores[j][j] = -1\n",
    "        if exc.count(mini) == 1 and exc.index(mini) == j:\n",
    "            scores[j][j] = -1\n",
    "    \n",
    "    \n",
    "    for j in range(length):\n",
    "        count = 0\n",
    "        total = 0\n",
    "        for i in range(length):\n",
    "            if scores[i][j] == -1:\n",
    "                continue\n",
    "            count += 1\n",
    "            total += scores[i][j]\n",
    "        \n",
    "        grade = total / count\n",
    "        if grade >= 90:\n",
    "            answer += 'A'\n",
    "        elif grade>=80:\n",
    "            answer += 'B'\n",
    "        elif grade>=70:\n",
    "            answer += 'C'\n",
    "        elif grade>=50:\n",
    "            answer += 'D'\n",
    "        else:\n",
    "            answer += 'F'\n",
    "            \n",
    "    return answer"
   ]
  }
 ],
 "metadata": {
  "kernelspec": {
   "display_name": "Python 3",
   "language": "python",
   "name": "python3"
  },
  "language_info": {
   "codemirror_mode": {
    "name": "ipython",
    "version": 3
   },
   "file_extension": ".py",
   "mimetype": "text/x-python",
   "name": "python",
   "nbconvert_exporter": "python",
   "pygments_lexer": "ipython3",
   "version": "3.8.8"
  }
 },
 "nbformat": 4,
 "nbformat_minor": 5
}
