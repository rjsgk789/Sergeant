{
 "cells": [
  {
   "cell_type": "code",
   "execution_count": 3,
   "id": "statewide-praise",
   "metadata": {},
   "outputs": [],
   "source": [
    "## 2.3 요약\n",
    "# 데이터 가져오기\n",
    "import os\n",
    "HOUSING_PATH = os.path.join(\"datasets\", \"housing\")\n",
    "\n",
    "import pandas as pd\n",
    "def load_housing_data(housing_path=HOUSING_PATH):\n",
    "    csv_path = os.path.join(housing_path, \"housing.csv\")\n",
    "    return pd.read_csv(csv_path)\n",
    "\n",
    "housing = load_housing_data()\n",
    "\n",
    "\n",
    "# 중요 특성인 중간소득을 계층 별로 나눠 계층적 샘플링\n",
    "import numpy as np\n",
    "housing[\"income_cat\"] = pd.cut(housing[\"median_income\"],\n",
    "                               bins=[0., 1.5, 3.0, 4.5, 6., np.inf],\n",
    "                               labels=[1, 2, 3, 4, 5])\n",
    "\n",
    "from sklearn.model_selection import StratifiedShuffleSplit\n",
    "split = StratifiedShuffleSplit(n_splits=1, test_size=0.2, random_state=42)\n",
    "for train_index, test_index in split.split(housing, housing[\"income_cat\"]):\n",
    "    strat_train_set = housing.loc[train_index]\n",
    "    strat_test_set = housing.loc[test_index]\n",
    "\n",
    "    \n",
    "# 계층적 샘플링에 사용했던 income_cat 특성 제거하기\n",
    "for set_ in (strat_train_set, strat_test_set):\n",
    "    set_.drop(\"income_cat\", axis=1, inplace=True)\n",
    "\n",
    "## 2.4는 데이터 탐색과 시각화일 뿐, 2.5에 영향을 주진 않는다"
   ]
  },
  {
   "cell_type": "code",
   "execution_count": 4,
   "id": "distributed-sitting",
   "metadata": {},
   "outputs": [],
   "source": [
    "## 2.5 머신러닝 알고리즘을 위한 데이터 준비\n",
    "'''\n",
    "함수로 자동화\n",
    "원래 훈련 세트로 복원하고, 예측 변수과 타깃값(레이블)을 분리한다.\n",
    "drop()은 복사본을 만들며, 기존에 영향을 주지 않는다.\n",
    "'''\n",
    "\n",
    "housing = strat_train_set.drop(\"median_house_value\", axis=1)\n",
    "housing_labels = strat_train_set[\"median_house_value\"].copy()"
   ]
  },
  {
   "cell_type": "code",
   "execution_count": 6,
   "id": "gentle-strengthening",
   "metadata": {},
   "outputs": [],
   "source": [
    "# 2.5.1 데이터 정제\n",
    "'''\n",
    "누락된 특성을 처리하자\n",
    "1. 해당 구역 제거\n",
    "2. 전체 특성 삭제\n",
    "3. 어떤 값으로 채우기 -> 계산한 중간값을 저장하고 사용.\n",
    "'''\n",
    "\n",
    "#housing.dropna(subset=[\"total_bedrooms\"])\n",
    "#housing.drop(\"total_bedrooms\", axis=1)\n",
    "#median = housing[\"total_bedrooms\"].median()\n",
    "#housing[\"total_bedrooms\"].fillna(median, inplace=True)\n",
    "\n",
    "pass"
   ]
  },
  {
   "cell_type": "code",
   "execution_count": 7,
   "id": "automotive-mother",
   "metadata": {},
   "outputs": [],
   "source": [
    "'''\n",
    "사이킷런의 SimpleImputer -> 누락된 값을 손쉽게 다루게 해줌\n",
    "일단, 특성의 중간값으로 대체하게 해보자\n",
    "'''\n",
    "\n",
    "from sklearn.impute import SimpleImputer\n",
    "\n",
    "imputer = SimpleImputer(strategy=\"median\")"
   ]
  },
  {
   "cell_type": "code",
   "execution_count": 8,
   "id": "mediterranean-exhaust",
   "metadata": {},
   "outputs": [],
   "source": [
    "'''\n",
    "중간값은 수치형 데이터에서만 계산될 수 있음 -> 텍스트 특성인 ocean_proximity를 제외한 데이터 복사본 생성\n",
    "'''\n",
    "\n",
    "housing_num = housing.drop(\"ocean_proximity\", axis=1)"
   ]
  },
  {
   "cell_type": "code",
   "execution_count": 9,
   "id": "expressed-armenia",
   "metadata": {},
   "outputs": [
    {
     "data": {
      "text/plain": [
       "SimpleImputer(strategy='median')"
      ]
     },
     "execution_count": 9,
     "metadata": {},
     "output_type": "execute_result"
    }
   ],
   "source": [
    "'''\n",
    "imputer 객체의 fit() 메서드 사용해서 훈련 데이터에 적용\n",
    "'''\n",
    "\n",
    "imputer.fit(housing_num)"
   ]
  },
  {
   "cell_type": "code",
   "execution_count": 10,
   "id": "offensive-franklin",
   "metadata": {},
   "outputs": [
    {
     "data": {
      "text/plain": [
       "array([-118.51  ,   34.26  ,   29.    , 2119.5   ,  433.    , 1164.    ,\n",
       "        408.    ,    3.5409])"
      ]
     },
     "execution_count": 10,
     "metadata": {},
     "output_type": "execute_result"
    }
   ],
   "source": [
    "'''\n",
    "imputer는 각 특성의 중간값을 계산해서 그 결과를 객체의 statistics_ 속성에 저장한다\n",
    "나중에 어떤 값이 누락될 지 모르니 모든 수치형 특성에 imputer를 적용하자\n",
    "'''\n",
    "\n",
    "imputer.statistics_"
   ]
  },
  {
   "cell_type": "code",
   "execution_count": 11,
   "id": "corporate-miracle",
   "metadata": {},
   "outputs": [
    {
     "data": {
      "text/plain": [
       "array([-118.51  ,   34.26  ,   29.    , 2119.5   ,  433.    , 1164.    ,\n",
       "        408.    ,    3.5409])"
      ]
     },
     "execution_count": 11,
     "metadata": {},
     "output_type": "execute_result"
    }
   ],
   "source": [
    "housing_num.median().values"
   ]
  },
  {
   "cell_type": "code",
   "execution_count": 13,
   "id": "educated-rally",
   "metadata": {},
   "outputs": [
    {
     "data": {
      "text/plain": [
       "array([[-121.89  ,   37.29  ,   38.    , ...,  710.    ,  339.    ,\n",
       "           2.7042],\n",
       "       [-121.93  ,   37.05  ,   14.    , ...,  306.    ,  113.    ,\n",
       "           6.4214],\n",
       "       [-117.2   ,   32.77  ,   31.    , ...,  936.    ,  462.    ,\n",
       "           2.8621],\n",
       "       ...,\n",
       "       [-116.4   ,   34.09  ,    9.    , ..., 2098.    ,  765.    ,\n",
       "           3.2723],\n",
       "       [-118.01  ,   33.82  ,   31.    , ..., 1356.    ,  356.    ,\n",
       "           4.0625],\n",
       "       [-122.45  ,   37.77  ,   52.    , ..., 1269.    ,  639.    ,\n",
       "           3.575 ]])"
      ]
     },
     "execution_count": 13,
     "metadata": {},
     "output_type": "execute_result"
    }
   ],
   "source": [
    "'''\n",
    "이제 학습된 imputer 객체를 사용해 훈련 세트에 누락된 값을 중간값으로 바꿀 수 있다\n",
    "'''\n",
    "\n",
    "X = imputer.transform(housing_num)\n",
    "X"
   ]
  },
  {
   "cell_type": "code",
   "execution_count": 15,
   "id": "temporal-drunk",
   "metadata": {},
   "outputs": [],
   "source": [
    "'''\n",
    "이 결과는 평범한 넘파이 배열이다. 다시 판다스 데이터프레임으로 되돌리자\n",
    "'''\n",
    "\n",
    "housing_tr = pd.DataFrame(X, columns=housing_num.columns, index=housing_num.index)"
   ]
  },
  {
   "cell_type": "code",
   "execution_count": null,
   "id": "herbal-nutrition",
   "metadata": {},
   "outputs": [],
   "source": []
  }
 ],
 "metadata": {
  "kernelspec": {
   "display_name": "Python 3",
   "language": "python",
   "name": "python3"
  },
  "language_info": {
   "codemirror_mode": {
    "name": "ipython",
    "version": 3
   },
   "file_extension": ".py",
   "mimetype": "text/x-python",
   "name": "python",
   "nbconvert_exporter": "python",
   "pygments_lexer": "ipython3",
   "version": "3.8.8"
  }
 },
 "nbformat": 4,
 "nbformat_minor": 5
}
