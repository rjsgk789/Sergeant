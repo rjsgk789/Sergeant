{
 "cells": [
  {
   "cell_type": "code",
   "execution_count": null,
   "id": "juvenile-campaign",
   "metadata": {},
   "outputs": [],
   "source": [
    "## Chapter1 데이 터에서 인사이트 발견하기\n",
    "'''\n",
    "탐색적 데이터 분석을 알아보자\n",
    "판다스, 넘파이 맷플롯 익숙해지자\n",
    "적절한 시각화 방법으로 인사이트를 발견하자\n",
    "'''\n",
    "\n",
    "# Chapter1.1\n",
    "'''\n",
    "탐색적 데이터 분석의 과정\n",
    "정제되지 않은 데이터 - raw data\n",
    "데이터를 열어보는 상황에서부터 시작\n",
    "\n",
    "1. 데이터의 출처와 주제에 대해 이해한다.\n",
    "2. 데이터의 크기를 알아본다.\n",
    "3. 데이터의 구성 요소(피처)를 살펴본다.\n",
    "\n",
    "'''"
   ]
  }
 ],
 "metadata": {
  "kernelspec": {
   "display_name": "Python 3",
   "language": "python",
   "name": "python3"
  },
  "language_info": {
   "codemirror_mode": {
    "name": "ipython",
    "version": 3
   },
   "file_extension": ".py",
   "mimetype": "text/x-python",
   "name": "python",
   "nbconvert_exporter": "python",
   "pygments_lexer": "ipython3",
   "version": "3.8.8"
  }
 },
 "nbformat": 4,
 "nbformat_minor": 5
}
