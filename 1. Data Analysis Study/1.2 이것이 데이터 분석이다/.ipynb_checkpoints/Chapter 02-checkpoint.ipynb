{
 "cells": [
  {
   "cell_type": "code",
   "execution_count": 1,
   "id": "original-region",
   "metadata": {},
   "outputs": [],
   "source": [
    "'''\n",
    "1. 웹 크롤링으로 데이터를 수집한다.\n",
    "2. 키워드 추출의 방법을 알아본다.\n",
    "3. 키워드 간의 연관 관계를 분석한다.\n",
    "4. 텍스트 분석 결과를 시각화한다.\n",
    "'''\n",
    "pass"
   ]
  },
  {
   "cell_type": "code",
   "execution_count": 7,
   "id": "adjacent-dealer",
   "metadata": {},
   "outputs": [
    {
     "data": {
      "text/plain": [
       "'\\nreq = driver.page_source\\n\\n\\nsoup = BeautifulSoup(req, \"html.parser\")\\ncontents_table = soup.find(name=\"table\")\\ntable_body = contents_table.find(name=\"tbody\")\\ntable_rows = table_body.find_all(name=\"tr\")\\n\\npage_url_base = \"https://namu.wiki\"\\npage_urls = []\\nfor index in range(0, len(table_rows)):\\n    first_td = table_rows[index].find_all(\\'td\\')[0]\\n    td_url = first_td.find_all(\\'a\\')\\n    if len(td_url) > 0:\\n        page_url = page_url_base + td_url[0].get(\\'href\\')\\n        if \"png\" not in page_url:\\n            page_urls.append(page_url)\\n\\n\\npage_urls = list(set(page_urls))\\nfor page in page_urls[:3]:\\n    print(page)\\n'"
      ]
     },
     "execution_count": 7,
     "metadata": {},
     "output_type": "execute_result"
    }
   ],
   "source": [
    "\n",
    "# 2.1 웹 크롤링으로 기초 데이터 수집하기\n",
    "\n",
    "from selenium import webdriver\n",
    "from bs4 import BeautifulSoup\n",
    "import re\n",
    "\n",
    "\n",
    "excutable_path = \"chromedriver.exe\"\n",
    "\n",
    "source_url = \"https:namu.wiki/RecentChanges\"\n",
    "\n",
    "driver = webdriver.Chrome(executable_path = excutable_path)\n",
    "\n",
    "\n",
    "driver.get(source_url)\n",
    "req = driver.page_source\n",
    "\n",
    "\n",
    "soup = BeautifulSoup(req, \"html.parser\")\n",
    "contents_table = soup.find(name=\"table\")\n",
    "table_body = contents_table.find(name=\"tbody\")\n",
    "table_rows = table_body.find_all(name=\"tr\")\n",
    "\n",
    "page_url_base = \"https://namu.wiki\"\n",
    "page_urls = []\n",
    "for index in range(0, len(table_rows)):\n",
    "    first_td = table_rows[index].find_all('td')[0]\n",
    "    td_url = first_td.find_all('a')\n",
    "    if len(td_url) > 0:\n",
    "        page_url = page_url_base + td_url[0].get('href')\n",
    "        if \"png\" not in page_url:\n",
    "            page_urls.append(page_url)\n",
    "\n",
    "\n",
    "page_urls = list(set(page_urls))\n",
    "for page in page_urls[:3]:\n",
    "    print(page)\n",
    "'''"
   ]
  },
  {
   "cell_type": "code",
   "execution_count": null,
   "id": "friendly-contamination",
   "metadata": {},
   "outputs": [],
   "source": []
  }
 ],
 "metadata": {
  "kernelspec": {
   "display_name": "Python 3",
   "language": "python",
   "name": "python3"
  },
  "language_info": {
   "codemirror_mode": {
    "name": "ipython",
    "version": 3
   },
   "file_extension": ".py",
   "mimetype": "text/x-python",
   "name": "python",
   "nbconvert_exporter": "python",
   "pygments_lexer": "ipython3",
   "version": "3.8.8"
  }
 },
 "nbformat": 4,
 "nbformat_minor": 5
}
