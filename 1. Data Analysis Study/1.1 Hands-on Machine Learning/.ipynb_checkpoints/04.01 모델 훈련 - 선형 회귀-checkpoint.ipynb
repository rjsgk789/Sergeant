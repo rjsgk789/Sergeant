{
 "cells": [
  {
   "cell_type": "code",
   "execution_count": 10,
   "metadata": {},
   "outputs": [],
   "source": [
    "'''\n",
    "어떻게 작동하는지 잘 이해하고 있으면 적절한 모델, 올바른 훈련 알고리즘, 작업에 맞는 좋은 하이퍼파라미터를 빠르게 찾을 수 있다.\n",
    "작동 원리를 이해하고 있으면 디버깅이나 에러를 효율적으로 분석할 수 있다.\n",
    "\n",
    "선형 회귀\n",
    "공식을 이용하여 훈련 세트에 가장 잘 맞는 모델 파라미터를 해석적으로 구한다.\n",
    "경사 하강법으로 비용함수를 최소화시킨다.\n",
    "\n",
    "다항 회귀 - 파라미터가 더 많아서 과대적합되기 쉬움 - 규제 필요\n",
    "\n",
    "로지스틱 회귀, 소프트맥스 회귀\n",
    "'''\n",
    "pass"
   ]
  },
  {
   "cell_type": "code",
   "execution_count": 11,
   "metadata": {
    "scrolled": true
   },
   "outputs": [
    {
     "data": {
      "image/png": "[encoded data removed]",
      "text/plain": [
       "<Figure size 432x288 with 1 Axes>"
      ]
     },
     "metadata": {
      "needs_background": "light"
     },
     "output_type": "display_data"
    }
   ],
   "source": [
    "## 4.1 선형 회귀\n",
    "'''\n",
    "회귀에 가장 널리 사용되는 성능측정 지표 - 평균 제곱근 오차(RMSE)\n",
    "\n",
    "정규방정식 - 비용함수를 최소화하는 θ값을 찾기 위한 해석적인 방법\n",
    "'''\n",
    "\n",
    "import numpy as np\n",
    "import matplotlib.pyplot as plt\n",
    "\n",
    "X = 2 * np.random.rand(100, 1)\n",
    "y = 4 + 3 * X + np.random.rand(100, 1)\n",
    "\n",
    "plt.scatter(X, y, c=\"r\") # 점그래프 plt.plot(X, y, \".\")으로도 가능\n",
    "plt.xlabel('X')\n",
    "plt.ylabel('Y')\n",
    "plt.axis([0, 2, 0, 15])\n",
    "plt.show()"
   ]
  },
  {
   "cell_type": "code",
   "execution_count": 12,
   "metadata": {},
   "outputs": [
    {
     "name": "stdout",
     "output_type": "stream",
     "text": [
      "[[4.55691299]\n",
      " [2.97135619]]\n"
     ]
    }
   ],
   "source": [
    "# 4.1.1 정규방정식\n",
    "'''\n",
    "정규방정식을 사용해 비용함수를 최소화하는 θ값을 계산해보자\n",
    "\n",
    "어떻게 계산하는거지??? -> 알아보자\n",
    "'''\n",
    "\n",
    "X_b = np.c_[np.ones((100, 1)), X] # 상수항과 X값들을 저장\n",
    "theta_best = np.linalg.inv(X_b.T.dot(X_b)).dot(X_b.T).dot(y) # 세타 구하는 방법???\n",
    "\n",
    "print(theta_best)"
   ]
  },
  {
   "cell_type": "code",
   "execution_count": 13,
   "metadata": {},
   "outputs": [
    {
     "name": "stdout",
     "output_type": "stream",
     "text": [
      "[[ 4.55691299]\n",
      " [10.49962537]]\n"
     ]
    }
   ],
   "source": [
    "'''\n",
    "이 값을 사용해 예측을 해보자\n",
    "'''\n",
    "\n",
    "X_new = np.array([[0], [2]])\n",
    "X_new_b = np.c_[np.ones((2,1)), X_new] # np.ones -> 상수항의 x값은 1로 가정하기 때문\n",
    "y_predict = X_new_b.dot(theta_best) # 행렬의 곱\n",
    "print(y_predict) # X=0, 2 일 때의 각각 예측 값임"
   ]
  },
  {
   "cell_type": "code",
   "execution_count": 14,
   "metadata": {
    "scrolled": true
   },
   "outputs": [
    {
     "data": {
      "image/png": "[encoded data removed]",
      "text/plain": [
       "<Figure size 432x288 with 1 Axes>"
      ]
     },
     "metadata": {
      "needs_background": "light"
     },
     "output_type": "display_data"
    }
   ],
   "source": [
    "plt.plot(X_new, y_predict, \"r-\") # r-  ->  red 직선그래프\n",
    "plt.plot(X, y, \"b.\") # b.  ->  blue 점그래프\n",
    "plt.axis([0, 2, 0, 15]) # X, y 범위 설정\n",
    "plt.show()"
   ]
  },
  {
   "cell_type": "code",
   "execution_count": 15,
   "metadata": {
    "scrolled": true
   },
   "outputs": [
    {
     "name": "stdout",
     "output_type": "stream",
     "text": [
      "[4.55691299] [[2.97135619]]\n",
      "[[ 4.55691299]\n",
      " [10.49962537]]\n"
     ]
    }
   ],
   "source": [
    "'''\n",
    "사이킷런에서 선형 회귀를 수행하는 것은 간단하다 (3줄 끝)\n",
    "'''\n",
    "from sklearn.linear_model import LinearRegression\n",
    "lin_reg = LinearRegression()\n",
    "lin_reg.fit(X, y)\n",
    "\n",
    "print(lin_reg.intercept_, lin_reg.coef_) # 가중치와 편향\n",
    "print(lin_reg.predict(X_new)) # X=0, 2일 때의 각각 예측값"
   ]
  },
  {
   "cell_type": "code",
   "execution_count": 16,
   "metadata": {},
   "outputs": [
    {
     "name": "stdout",
     "output_type": "stream",
     "text": [
      "[[4.55691299]\n",
      " [2.97135619]]\n"
     ]
    }
   ],
   "source": [
    "'''\n",
    "LinearRegression 클래스는 scipy.linalg.lstsq() 함수(최소 제곱(least squares)에서 이름을 따옴)를 기반으로 한다\n",
    "'''\n",
    "\n",
    "theta_best_svd, residuals, rank, s = np.linalg.lstsq(X_b, y, rcond=1e-6)\n",
    "print(theta_best_svd)"
   ]
  },
  {
   "cell_type": "code",
   "execution_count": 17,
   "metadata": {
    "scrolled": true
   },
   "outputs": [
    {
     "name": "stdout",
     "output_type": "stream",
     "text": [
      "[[4.55691299]\n",
      " [2.97135619]]\n"
     ]
    }
   ],
   "source": [
    "'''\n",
    "위의 함수는 유사역행렬을 이용해 계산을 한다 (무어-펜로즈 역행렬) -> 직접 구할 수 있다\n",
    "'''\n",
    "print(np.linalg.pinv(X_b).dot(y))"
   ]
  },
  {
   "cell_type": "code",
   "execution_count": 18,
   "metadata": {},
   "outputs": [],
   "source": [
    "'''\n",
    "유사역행렬 자체는 특잇값분해(SVD)라 부르는 표준 행렬 분해 기법을 사용해 계산된다.\n",
    "'''\n",
    "pass"
   ]
  },
  {
   "cell_type": "code",
   "execution_count": 24,
   "metadata": {},
   "outputs": [
    {
     "name": "stdout",
     "output_type": "stream",
     "text": [
      "[[4.55691299]\n",
      " [2.97135619]]\n"
     ]
    }
   ],
   "source": [
    "'''\n",
    "경사하강법 코드인데, 정규방정식과 값이 같다길래 해봄\n",
    "'''\n",
    "eta = 0.1 # lr\n",
    "n_iterations = 1000\n",
    "m = 100\n",
    "\n",
    "theta = np.random.randn(2,1) # 무작위 초기화 θ시작값\n",
    "\n",
    "for iteration in range(n_iterations):\n",
    "    gradients = 2/m * X_b.T.dot(X_b.dot(theta) - y)\n",
    "    theta = theta - eta * gradients\n",
    "\n",
    "print(theta)"
   ]
  }
 ],
 "metadata": {
  "kernelspec": {
   "display_name": "Python 3 (ipykernel)",
   "language": "python",
   "name": "python3"
  },
  "language_info": {
   "codemirror_mode": {
    "name": "ipython",
    "version": 3
   },
   "file_extension": ".py",
   "mimetype": "text/x-python",
   "name": "python",
   "nbconvert_exporter": "python",
   "pygments_lexer": "ipython3",
   "version": "3.8.11"
  }
 },
 "nbformat": 4,
 "nbformat_minor": 4
}
