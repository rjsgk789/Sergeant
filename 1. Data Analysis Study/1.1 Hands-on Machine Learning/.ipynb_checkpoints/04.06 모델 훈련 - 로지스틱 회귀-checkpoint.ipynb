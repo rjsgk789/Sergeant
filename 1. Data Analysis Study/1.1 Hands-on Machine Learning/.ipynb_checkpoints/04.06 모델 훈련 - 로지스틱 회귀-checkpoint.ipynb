{
 "cells": [
  {
   "cell_type": "code",
   "execution_count": 1,
   "id": "fafe48d5",
   "metadata": {},
   "outputs": [],
   "source": [
    "## 4.6 로지스틱 회귀\n",
    "'''\n",
    "어떤 회귀 알고리즘은 분류에서도 사용할 수 있다.\n",
    "로지스틱 회귀(로짓 회귀)는 샘플이 특정 클래스에 속할 확률을 추정하는 데 널리 사용된다. (예를 들어 이 이메일이 스팸일 확률?)\n",
    "추정 확률이 50%가 넘으면 모델은 그 샘플이 해당 클래스에 속한다고 예측한다.\n",
    "레이블이 '1'인 양성 클래스, 레이블이 '0'인 음성 클래스 -> 이를 이진 분류기라고 한다.\n",
    "'''\n",
    "pass"
   ]
  },
  {
   "cell_type": "code",
   "execution_count": 2,
   "id": "dcfac630",
   "metadata": {},
   "outputs": [],
   "source": [
    "# 4.6.1 확률 추정\n",
    "'''\n",
    "선형 회귀 모델과 같이 로지스틱 회귀 모델은 입력 특성의 가중치 합을 계산하고 편향을 더한다.\n",
    "대신 선형 회귀처럼 바로 결과를 출력하지 않고 결괏값의 로지스틱을 출력한다.\n",
    "로지스틱은 0과 1 사이의 값을 출력하는 시그모이드 함수이다.\n",
    "'''\n",
    "pass"
   ]
  },
  {
   "cell_type": "code",
   "execution_count": 3,
   "id": "26b83251",
   "metadata": {},
   "outputs": [],
   "source": [
    "# 4.6.2 훈련과 비용 함수\n",
    "'''\n",
    "로지스틱 회귀 모델이 어떻게 확률을 추정하고 예측하는지 알았다.\n",
    "그러면 어떻게 훈련시킬까?\n",
    "훈련의 목적은 양성 샘플에 대해서는 높은 확률로 추정하고,\n",
    "    음성 샘플에 대해서는 낮은 확률로 추정하는 모델의 파라미터 벡터(θ)를 찾는 것이다.\n",
    "\n",
    "p.195~196 이해 필요..\n",
    "'''\n",
    "pass"
   ]
  },
  {
   "cell_type": "code",
   "execution_count": 4,
   "id": "59794a55",
   "metadata": {
    "scrolled": true
   },
   "outputs": [
    {
     "name": "stdout",
     "output_type": "stream",
     "text": [
      "['data', 'target', 'frame', 'target_names', 'DESCR', 'feature_names', 'filename']\n"
     ]
    }
   ],
   "source": [
    "# 4.6.3 결정 경계\n",
    "'''\n",
    "로지스틱 회귀를 설명하기위해 붓꽃 데이터셋을 사용하겠다.\n",
    "Iris-Versicolor종을 감지하는 분류기를 만들어보자\n",
    "\n",
    "먼저 데이터를 로드한다\n",
    "'''\n",
    "\n",
    "from sklearn import datasets\n",
    "import numpy as np\n",
    "\n",
    "iris = datasets.load_iris()\n",
    "print(list(iris.keys()))\n",
    "\n",
    "X = iris[\"data\"][:, 3:]\n",
    "y = (iris[\"target\"] == 2).astype(int)"
   ]
  },
  {
   "cell_type": "code",
   "execution_count": 5,
   "id": "94f6fa6a",
   "metadata": {},
   "outputs": [
    {
     "data": {
      "text/plain": [
       "LogisticRegression()"
      ]
     },
     "execution_count": 5,
     "metadata": {},
     "output_type": "execute_result"
    }
   ],
   "source": [
    "'''\n",
    "로지스틱 회귀 모델을 훈련시킨다\n",
    "'''\n",
    "\n",
    "from sklearn.linear_model import LogisticRegression\n",
    "\n",
    "log_reg = LogisticRegression()\n",
    "log_reg.fit(X, y)"
   ]
  },
  {
   "cell_type": "code",
   "execution_count": 6,
   "id": "4c37f621",
   "metadata": {
    "scrolled": false
   },
   "outputs": [
    {
     "data": {
      "text/plain": [
       "[<matplotlib.lines.Line2D at 0x11a529fae50>]"
      ]
     },
     "execution_count": 6,
     "metadata": {},
     "output_type": "execute_result"
    },
    {
     "data": {
      "image/png": "[encoded data removed]",
      "text/plain": [
       "<Figure size 432x288 with 1 Axes>"
      ]
     },
     "metadata": {
      "needs_background": "light"
     },
     "output_type": "display_data"
    }
   ],
   "source": [
    "'''\n",
    "꽃잎의 너비가 0~3cm인 꽃에 대해 모델의 추정 확률을 계산해보자\n",
    "'''\n",
    "\n",
    "import matplotlib.pyplot as plt\n",
    "\n",
    "X_new = np.linspace(0, 3, 1000).reshape(-1, 1)\n",
    "y_proba = log_reg.predict_proba(X_new)\n",
    "plt.plot(X_new, y_proba[:, 1], \"g-\", label=\"Iris virginica\")\n",
    "plt.plot(X_new, y_proba[:, 0], \"b--\", label=\"Not Iris virginica\")"
   ]
  },
  {
   "cell_type": "code",
   "execution_count": 7,
   "id": "f4957057",
   "metadata": {},
   "outputs": [
    {
     "name": "stdout",
     "output_type": "stream",
     "text": [
      "[1 0]\n"
     ]
    }
   ],
   "source": [
    "'''\n",
    "Iris-Verginica의 꽃잎 너비는 1.4 ~ 2.5cm에 분포한다.\n",
    "다른 붓꽃은 일반적으로 0.1 ~ 1.8cm 분포한다. 그래서 약간 중첩되는 부분이 있다.\n",
    "predict로 클래스를 예측하려고 하면 가장 가능성 높은 클래스를 반환할 것이다.\n",
    "양쪽의 확률이 똑같이 50%가 되는 1.6cm 근방에서 결정 경계가 만들어진다.\n",
    "'''\n",
    "\n",
    "print(log_reg.predict([[1.7], [1.5]]))"
   ]
  },
  {
   "cell_type": "code",
   "execution_count": 9,
   "id": "800340fe",
   "metadata": {},
   "outputs": [],
   "source": [
    "# 4.6.4 소프트맥스 회귀"
   ]
  },
  {
   "cell_type": "code",
   "execution_count": 10,
   "id": "076e7923",
   "metadata": {},
   "outputs": [
    {
     "data": {
      "text/plain": [
       "LogisticRegression(C=10, multi_class='multinomial')"
      ]
     },
     "execution_count": 10,
     "metadata": {},
     "output_type": "execute_result"
    }
   ],
   "source": [
    "X = iris[\"data\"][:, (2, 3)]\n",
    "y = iris[\"target\"]\n",
    "\n",
    "softmax_reg = LogisticRegression(multi_class = \"multinomial\", solver=\"lbfgs\", C=10)\n",
    "softmax_reg.fit(X, y)"
   ]
  },
  {
   "cell_type": "code",
   "execution_count": 12,
   "id": "5b4104be",
   "metadata": {},
   "outputs": [
    {
     "name": "stdout",
     "output_type": "stream",
     "text": [
      "[2]\n",
      "[[6.38014896e-07 5.74929995e-02 9.42506362e-01]]\n"
     ]
    }
   ],
   "source": [
    "print(softmax_reg.predict([[5, 2]]))\n",
    "print(softmax_reg.predict_proba([[5, 2]]))"
   ]
  }
 ],
 "metadata": {
  "kernelspec": {
   "display_name": "Python 3 (ipykernel)",
   "language": "python",
   "name": "python3"
  },
  "language_info": {
   "codemirror_mode": {
    "name": "ipython",
    "version": 3
   },
   "file_extension": ".py",
   "mimetype": "text/x-python",
   "name": "python",
   "nbconvert_exporter": "python",
   "pygments_lexer": "ipython3",
   "version": "3.8.11"
  }
 },
 "nbformat": 4,
 "nbformat_minor": 5
}
