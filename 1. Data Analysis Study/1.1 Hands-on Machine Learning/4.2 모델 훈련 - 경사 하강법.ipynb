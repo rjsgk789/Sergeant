{
 "cells": [
  {
   "cell_type": "code",
   "execution_count": 9,
   "metadata": {},
   "outputs": [],
   "source": [
    "import numpy as np\n",
    "X = 2 * np.random.rand(100, 1)\n",
    "y = 4 + 3 * X + np.random.rand(100, 1)\n",
    "\n",
    "X_b = np.c_[np.ones((100, 1)), X]"
   ]
  },
  {
   "cell_type": "code",
   "execution_count": 10,
   "metadata": {},
   "outputs": [],
   "source": [
    "## 4.2 경사 하강법\n",
    "'''\n",
    "Gradient Descent\n",
    "\n",
    "lr(Learning Rate) 설정이 중요함 (스탭의 크기)\n",
    "\n",
    "경사 하강법에는 지역 최솟값과 평지라는 두가지 문제점이 있다.\n",
    "다행히 선형 회귀를 위한 MSE 비용 함수는 볼록함수이다.\n",
    "'''\n",
    "pass"
   ]
  },
  {
   "cell_type": "code",
   "execution_count": 14,
   "metadata": {},
   "outputs": [
    {
     "name": "stdout",
     "output_type": "stream",
     "text": [
      "[[4.44480445]\n",
      " [3.06309867]]\n"
     ]
    }
   ],
   "source": [
    "# 4.2.1 배치 경사 하강법\n",
    "'''\n",
    "각 모델 파라미터 θ에 대해 비용함수의 그레이디언트를 계산해야 한다.\n",
    "편도함수\n",
    "\n",
    "매 경사 하강법 스탭에서 전체 훈련 세트 X에 대해 계산합니다. -> 배치 경사 하강법 (매우 큰 훈련세트에서 아주 느림)\n",
    "\n",
    "경사 하강법은 특성수에 민감하지 않음 -> 수십만개의 특성에서 선형 회귀를 훈련시키려면 정규방정식이나 SVD 분해보다 경사 하강법을 사용하는 것이 훨씬 빠름\n",
    "\n",
    "θ = θ - lr * 편도함수값(기울기)\n",
    "'''\n",
    "eta = 0.1 # lr\n",
    "n_iterations = 1000\n",
    "m = 100\n",
    "\n",
    "theta = np.random.randn(2,1) # 무작위 초기화 θ시작값\n",
    "\n",
    "for iteration in range(n_iterations):\n",
    "    gradients = 2/m * X_b.T.dot(X_b.dot(theta) - y)\n",
    "    theta = theta - eta * gradients\n",
    "\n",
    "print(theta)\n",
    "\n",
    "'''\n",
    "정규방정식으로 찾은 것과 정확히 같다?\n",
    "선형 회귀라 가능한 듯\n",
    "'''\n",
    "pass"
   ]
  }
 ],
 "metadata": {
  "kernelspec": {
   "display_name": "Python 3",
   "language": "python",
   "name": "python3"
  },
  "language_info": {
   "codemirror_mode": {
    "name": "ipython",
    "version": 3
   },
   "file_extension": ".py",
   "mimetype": "text/x-python",
   "name": "python",
   "nbconvert_exporter": "python",
   "pygments_lexer": "ipython3",
   "version": "3.8.5"
  }
 },
 "nbformat": 4,
 "nbformat_minor": 4
}
