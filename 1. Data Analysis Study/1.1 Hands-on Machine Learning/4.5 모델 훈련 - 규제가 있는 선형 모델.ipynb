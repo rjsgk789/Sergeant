{
 "cells": [
  {
   "cell_type": "code",
   "execution_count": 2,
   "id": "b3262d22",
   "metadata": {},
   "outputs": [
    {
     "data": {
      "text/plain": [
       "[<matplotlib.lines.Line2D at 0x1c6056cd2b0>]"
      ]
     },
     "execution_count": 2,
     "metadata": {},
     "output_type": "execute_result"
    },
    {
     "data": {
      "image/png": "[encoded data removed]",
      "text/plain": [
       "<Figure size 432x288 with 1 Axes>"
      ]
     },
     "metadata": {
      "needs_background": "light"
     },
     "output_type": "display_data"
    }
   ],
   "source": [
    "import matplotlib.pyplot as plt\n",
    "import numpy as np\n",
    "\n",
    "m = 100\n",
    "X = 6 * np.random.rand(m, 1) - 3\n",
    "X.sort()\n",
    "y = 0.5 * X**2 + X + 2 + np.random.randn(m, 1)\n",
    "\n",
    "plt.plot(X, y, 'c.')"
   ]
  },
  {
   "cell_type": "code",
   "execution_count": 37,
   "id": "67a95c5d",
   "metadata": {},
   "outputs": [],
   "source": [
    "from sklearn.metrics import mean_squared_error\n",
    "from sklearn.model_selection import train_test_split\n",
    "\n",
    "def plot_learning_curves(model, X, y):\n",
    "    X_train, X_val, y_train, y_val = train_test_split(X, y, test_size=0.2)\n",
    "    train_errors, val_errors = [], []\n",
    "    for m in range(1, len(X_train)):\n",
    "        model.fit(X_train[:m], y_train[:m])\n",
    "        y_train_predict = model.predict(X_train[:m])\n",
    "        y_val_predict = model.predict(X_val)\n",
    "        train_errors.append(mean_squared_error(y_train[:m], y_train_predict))\n",
    "        val_errors.append(mean_squared_error(y_val, y_val_predict))\n",
    "    plt.plot(np.sqrt(train_errors), \"r-+\", linewidth=2, label=\"훈련 세트\")\n",
    "    plt.plot(np.sqrt(val_errors), \"b-\", linewidth=3, label=\"검증 세트\")"
   ]
  },
  {
   "cell_type": "code",
   "execution_count": 3,
   "id": "8b168d74",
   "metadata": {},
   "outputs": [],
   "source": [
    "## 4.5 규제가 있는 선형 모델\n",
    "'''\n",
    "과대적합을 감소시키는 좋은 방법은 모델을 규제하는 것이다. (자유도를 줄인다)\n",
    "다항 회귀 모델을 규제하는 간단한 방법 : 차수 감소\n",
    "\n",
    "선형 회귀 모델에서는 보통 모델의 가중치를 제한함으로써 규제를 가한다.\n",
    "    가중치를 제한하는 규제에는 릿지 회귀, 라쏘 회귀, 엘라스틱넷 등이 있다.\n",
    "'''\n",
    "pass"
   ]
  },
  {
   "cell_type": "code",
   "execution_count": 4,
   "id": "0ded7baf",
   "metadata": {},
   "outputs": [
    {
     "name": "stdout",
     "output_type": "stream",
     "text": [
      "[[4.94803423]]\n"
     ]
    }
   ],
   "source": [
    "# 4.5.1 릿지 회귀\n",
    "'''\n",
    "규제가 추가된 선형 회귀\n",
    "비용함수에 규제항 추가 (훈련하는 동안에만) - 학습 알고리즘을 데이터에 맞춤, 모델의 가중치가 가능한 한 작게 유지되도록 노력함\n",
    "훈련이 끝나면 규제가 없는 성능 지표로 평가\n",
    "\n",
    "하이퍼파라미터 α - 모델을 얼마나 규제할지 조정\n",
    "α=0 -> 선형회귀와 같아짐\n",
    "α가 아주 크면 -> 모든 가중치가 0에 가까워지고 결국 데이터의 평균을 지나는 수평선이 된다.\n",
    "\n",
    "릿지 회귀는 입력 특성의 스케일에 민감함 -> 수행 전 데이터의 스케일을 맞춰야 함. StandardScaler\n",
    "\n",
    "정규방정식을 사용한 릿지 회귀를 적용해보자\n",
    "'''\n",
    "\n",
    "from sklearn.linear_model import Ridge\n",
    "ridge_reg = Ridge(alpha=1, solver=\"cholesky\")\n",
    "ridge_reg.fit(X, y)\n",
    "print(ridge_reg.predict([[1.5]]))"
   ]
  },
  {
   "cell_type": "code",
   "execution_count": 48,
   "id": "0b854676",
   "metadata": {
    "scrolled": true
   },
   "outputs": [
    {
     "name": "stdout",
     "output_type": "stream",
     "text": [
      "[4.95112156]\n"
     ]
    },
    {
     "data": {
      "text/plain": [
       "'\\n사실 규제를 언제 어떻게 써야할지 모르겠다.\\n'"
      ]
     },
     "execution_count": 48,
     "metadata": {},
     "output_type": "execute_result"
    }
   ],
   "source": [
    "'''\n",
    "확률적 경사 하강법을 사용했을 때의 릿지 회귀 (확률적 경사 하강법이라 값이 계속 바뀜)\n",
    "'''\n",
    "from sklearn.linear_model import SGDRegressor\n",
    "\n",
    "sgd_reg = SGDRegressor(penalty=\"l2\")\n",
    "sgd_reg.fit(X, y.ravel())\n",
    "print(sgd_reg.predict([[1.5]]))\n",
    "'''\n",
    "사실 규제를 언제 어떻게 써야할지 모르겠다.\n",
    "'''\n",
    "pass"
   ]
  },
  {
   "cell_type": "code",
   "execution_count": 26,
   "id": "11fe4a94",
   "metadata": {},
   "outputs": [
    {
     "name": "stdout",
     "output_type": "stream",
     "text": [
      "[4.89696494]\n"
     ]
    }
   ],
   "source": [
    "# 4.5.2 라쏘 회귀\n",
    "'''\n",
    "라쏘 회귀의 중요한 특징은 덜 중요한 특성의 가중치를 제거하려고 한다는 점이다. (가중치가 0이 된다)\n",
    "자동적으로 특성을 선택하고 희소 모델을 만든다.\n",
    "\n",
    "p.188~189 아직 이해를 못하겠다\n",
    "\n",
    "Lasso 클래스를 사용한 간단한 예제를 보자\n",
    "'''\n",
    "\n",
    "from sklearn.linear_model import Lasso\n",
    "lasso_reg = Lasso(alpha=0.1)\n",
    "lasso_reg.fit(X, y)\n",
    "print(lasso_reg.predict([[1.5]]))"
   ]
  },
  {
   "cell_type": "code",
   "execution_count": 29,
   "id": "54b7d08c",
   "metadata": {},
   "outputs": [
    {
     "name": "stdout",
     "output_type": "stream",
     "text": [
      "[4.8860546]\n"
     ]
    }
   ],
   "source": [
    "'''\n",
    "Lasso 대신 SGDRegressor(penalty=\"l1\")을 사용해도 된다는데\n",
    "얘는 값이 계속 바뀌네?\n",
    "\n",
    "왜 SGDRegressor는 X,y가 아니라 X,y.ravel()을 보낼까\n",
    "'''\n",
    "\n",
    "sgd_reg2 = SGDRegressor(penalty=\"l1\", alpha=0.1)\n",
    "sgd_reg2.fit(X, y.ravel())\n",
    "print(sgd_reg2.predict([[1.5]]))"
   ]
  },
  {
   "cell_type": "code",
   "execution_count": 31,
   "id": "fedb3c13",
   "metadata": {},
   "outputs": [
    {
     "name": "stdout",
     "output_type": "stream",
     "text": [
      "[4.8994054]\n"
     ]
    }
   ],
   "source": [
    "# 4.5.3 엘라스틱넷\n",
    "'''\n",
    "엘라스틱넷은 릿지 회귀와 라쏘 회귀를 절충한 모델이다.\n",
    "규제항은 릿지와 라쏘의 규제항을 단순히 더해서 사용하며, 혼합 정도는 혼합비율 r을 사용해 조절한다.\n",
    "r=0이면 엘라스틱넷 == 릿지회귀\n",
    "r=1이면 엘라스틱넷 == 라쏘회귀\n",
    "\n",
    "보통의 선형 회귀 (규제가 없는 모델), 릿지, 라쏘, 엘라스틱넷은 언제 사용해야 할까?\n",
    "적어도 규제가 약간 있는 것이 대부분의 경우에 좋다.\n",
    "릿지가 기본이 되지만 쓰이는 특성이 몇 개뿐이라고 의심되면 라쏘나 엘라스틱넷이 낫다.\n",
    "특성 수가 훈련 샘플 수보다 많거나 특성 몇 개가 강하게 연관되어 있을 때는 보통 라쏘보다는 엘라스틱넷을 선호한다.\n",
    "\n",
    "엘라스틱넷의 간단한 예제를 보자\n",
    "'''\n",
    "from sklearn.linear_model import ElasticNet\n",
    "elastic_net = ElasticNet(alpha=0.1, l1_ratio=0.5)\n",
    "elastic_net.fit(X, y)\n",
    "print(elastic_net.predict([[1.5]]))"
   ]
  },
  {
   "cell_type": "code",
   "execution_count": 45,
   "id": "4f02f703",
   "metadata": {},
   "outputs": [],
   "source": [
    "# # 4.5.4 조기 종료\n",
    "# '''\n",
    "# 조기 종료는 검증 에러가 최소에 도달하는 즉시 훈련을 멈추는 것이다.\n",
    "\n",
    "# 조기 종료를 위한 기본적인 구현 코드를 보자\n",
    "# '''\n",
    "\n",
    "# from sklearn.base import clone\n",
    "# from sklearn.pipeline import Pipeline\n",
    "# from sklearn.preprocessing import PolynomialFeatures, StandardScaler\n",
    "\n",
    "# # 데이터 준비\n",
    "# poly_scaler = Pipeline([\n",
    "#     (\"poly_features\", PolynomialFeatures(degree=90, include_bias=False)),\n",
    "#     (\"std_scaler\", StandardScaler())\n",
    "# ])\n",
    "# X_train_poly_scaled = poly_scaler.fit_transform(X_train)\n",
    "# X_val_poly_scaled = poly_scaler.transform(X_val)\n",
    "\n",
    "# sgd_reg = SGDRegressor(max_iter=1, tol=-np.infty, warm_start=True, # warm_start=True -> fit()메서드가 호출될 때 이전 파라미터에서 훈련 이어감\n",
    "#                       penalty=None, learning_rate=\"constant\", eta0=0.0005)\n",
    "\n",
    "# minimum_val_error = float(\"inf\")\n",
    "# best_epoch = None\n",
    "# best_model = None\n",
    "# for epoch in range(1000):\n",
    "#     sdg_reg.fit(X_train_poly_scaled, y_train)\n",
    "#     y_val_predict = sgd_reg.predict(X_val_poly_scaled)\n",
    "#     val_error = mean_squared_error(y_val, y_val_predict)\n",
    "#     if val_error < miinimum_val_error:\n",
    "#         minimum_val_error = val_error\n",
    "#         best_epoch = epoch\n",
    "#         best_model = clone(sgd_reg)\n",
    "\n",
    "# '''\n",
    "# 언제 어떻게 쓰는거지? 학습 곡선 그리는 plot_learning_curves 함수 안에서??\n",
    "# '''\n",
    "# pass"
   ]
  }
 ],
 "metadata": {
  "kernelspec": {
   "display_name": "Python 3 (ipykernel)",
   "language": "python",
   "name": "python3"
  },
  "language_info": {
   "codemirror_mode": {
    "name": "ipython",
    "version": 3
   },
   "file_extension": ".py",
   "mimetype": "text/x-python",
   "name": "python",
   "nbconvert_exporter": "python",
   "pygments_lexer": "ipython3",
   "version": "3.8.11"
  }
 },
 "nbformat": 4,
 "nbformat_minor": 5
}
